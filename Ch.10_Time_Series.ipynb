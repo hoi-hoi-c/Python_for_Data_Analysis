{
 "cells": [
  {
   "cell_type": "markdown",
   "metadata": {},
   "source": [
    "# Ch.10 시계열\n",
    "### 1. 고정 빈도 표현\n",
    "### 2. 일관적인 간격\n",
    "\n",
    "pandas의 강력한 기능: 불규칙적이고 고정된 빈도를 갖는 시계열 데이터를 림샘플링 메서드를 통해\n",
    "\n",
    "금융, 경제, 서버 로그 데이터 분석에 주로 이용"
   ]
  },
  {
   "cell_type": "markdown",
   "metadata": {},
   "source": [
    "# 10.1 날짜, 시간 자료형, 도구\n",
    "파이썬 표준 라이브러리 : 날짜, 시간, 달력 기능을 제공\n",
    "\n",
    "datetime, time, calendar 모듈 : 기본 내장 라이브러리/날짜에 최적화"
   ]
  },
  {
   "cell_type": "code",
   "execution_count": 1,
   "metadata": {},
   "outputs": [],
   "source": [
    "import pandas as pd\n",
    "import numpy as np\n",
    "import matplotlib.pyplot as plt\n",
    "import warnings\n",
    "\n",
    "warnings.filterwarnings(action='ignore')"
   ]
  },
  {
   "cell_type": "code",
   "execution_count": 2,
   "metadata": {},
   "outputs": [],
   "source": [
    "from datetime import datetime"
   ]
  },
  {
   "cell_type": "code",
   "execution_count": 3,
   "metadata": {},
   "outputs": [
    {
     "data": {
      "text/plain": [
       "datetime.datetime(2020, 4, 1, 12, 44, 28, 765151)"
      ]
     },
     "execution_count": 3,
     "metadata": {},
     "output_type": "execute_result"
    }
   ],
   "source": [
    "now = datetime.now()\n",
    "now"
   ]
  },
  {
   "cell_type": "code",
   "execution_count": 4,
   "metadata": {},
   "outputs": [
    {
     "data": {
      "text/plain": [
       "(2020, 4, 1)"
      ]
     },
     "execution_count": 4,
     "metadata": {},
     "output_type": "execute_result"
    }
   ],
   "source": [
    "now.year, now.month, now.day"
   ]
  },
  {
   "cell_type": "markdown",
   "metadata": {},
   "source": [
    "datetime.timedelta : datetime 간의 시간적 차이"
   ]
  },
  {
   "cell_type": "code",
   "execution_count": 5,
   "metadata": {},
   "outputs": [
    {
     "data": {
      "text/plain": [
       "datetime.timedelta(days=926, seconds=56700)"
      ]
     },
     "execution_count": 5,
     "metadata": {},
     "output_type": "execute_result"
    }
   ],
   "source": [
    "delta = datetime(2011, 1, 7) - datetime(2008,6,24,8,15)\n",
    "delta"
   ]
  },
  {
   "cell_type": "code",
   "execution_count": 6,
   "metadata": {},
   "outputs": [
    {
     "data": {
      "text/plain": [
       "926"
      ]
     },
     "execution_count": 6,
     "metadata": {},
     "output_type": "execute_result"
    }
   ],
   "source": [
    "delta.days"
   ]
  },
  {
   "cell_type": "code",
   "execution_count": 7,
   "metadata": {},
   "outputs": [
    {
     "data": {
      "text/plain": [
       "56700"
      ]
     },
     "execution_count": 7,
     "metadata": {},
     "output_type": "execute_result"
    }
   ],
   "source": [
    "delta.seconds"
   ]
  },
  {
   "cell_type": "markdown",
   "metadata": {},
   "source": [
    "datetime.timedelta : timedelta(n) 의 n만큼 더하거나 빼서 새로운 객체를 만들 수 있다.\n",
    "timedelta(n) : 기본값으로 단위는 '일(day)'이다."
   ]
  },
  {
   "cell_type": "code",
   "execution_count": 8,
   "metadata": {},
   "outputs": [],
   "source": [
    "from datetime import timedelta"
   ]
  },
  {
   "cell_type": "code",
   "execution_count": 9,
   "metadata": {},
   "outputs": [],
   "source": [
    "start = datetime(2011,1,7)"
   ]
  },
  {
   "cell_type": "code",
   "execution_count": 10,
   "metadata": {},
   "outputs": [
    {
     "data": {
      "text/plain": [
       "datetime.datetime(2011, 1, 19, 0, 0)"
      ]
     },
     "execution_count": 10,
     "metadata": {},
     "output_type": "execute_result"
    }
   ],
   "source": [
    "start + timedelta(12)"
   ]
  },
  {
   "cell_type": "code",
   "execution_count": 11,
   "metadata": {},
   "outputs": [
    {
     "data": {
      "text/plain": [
       "datetime.datetime(2010, 12, 14, 0, 0)"
      ]
     },
     "execution_count": 11,
     "metadata": {},
     "output_type": "execute_result"
    }
   ],
   "source": [
    "start - 2*timedelta(12)\n",
    "#24일 전"
   ]
  },
  {
   "cell_type": "markdown",
   "metadata": {},
   "source": [
    "### datetime 모듈 자료형\n",
    "1. date :달력을 사용하여 날짜(년, 월, 일)을 저장한다.\n",
    "2. time : 하루 중 시간을 시간, 분, 초, 마이크로 초 단위로 저장한다.\n",
    "3. datetime : 날짜와 시간을 같이 저장한다.\n",
    "4. timedelta : 두 datetime 값 간의 차이(일, 초, 마이크로초)를 표현한다."
   ]
  },
  {
   "cell_type": "markdown",
   "metadata": {},
   "source": [
    "# 10.1.1 문자열을 datetime으로 변환하기\n",
    "\n",
    "pandas로 외부 데이터를 불러오는 경우 날짜를 나타내는 열이 있으면 문자열로 저장되기 때문에 datetime 객체로 변환하는 작업이 필요하다.\n",
    "- 날짜 -> 문자 : str(datetime객체)\n",
    "- 문자 -> 날짜 : datetime.strptime(날짜를나타내는 문자열, 포맷형식)\n",
    "\n",
    "포맷 규칙¶\n",
    "- %Y : 네 자리 연도\n",
    "- %y : 두 자리 연도\n",
    "- %m : 월 [01,03]\n",
    "- %d : 일 [03, 31]\n",
    "- % H : 24시 형식 시간[00,23]\n",
    "- % I : 12시 형식 시간[01,12]\n",
    "- % M : 분\n",
    "- % S : 초"
   ]
  },
  {
   "cell_type": "code",
   "execution_count": 12,
   "metadata": {},
   "outputs": [
    {
     "data": {
      "text/plain": [
       "datetime.datetime(2018, 3, 27, 0, 0)"
      ]
     },
     "execution_count": 12,
     "metadata": {},
     "output_type": "execute_result"
    }
   ],
   "source": [
    "stamp = datetime(2018, 3, 27)\n",
    "stamp"
   ]
  },
  {
   "cell_type": "code",
   "execution_count": 13,
   "metadata": {},
   "outputs": [
    {
     "data": {
      "text/plain": [
       "'2018-03-27 00:00:00'"
      ]
     },
     "execution_count": 13,
     "metadata": {},
     "output_type": "execute_result"
    }
   ],
   "source": [
    "str(stamp)"
   ]
  },
  {
   "cell_type": "code",
   "execution_count": 14,
   "metadata": {},
   "outputs": [
    {
     "data": {
      "text/plain": [
       "datetime.datetime(2018, 1, 3, 0, 0)"
      ]
     },
     "execution_count": 14,
     "metadata": {},
     "output_type": "execute_result"
    }
   ],
   "source": [
    "#str -> datetime\n",
    "datetime.strptime('18-01-03', '%y-%m-%d')"
   ]
  },
  {
   "cell_type": "code",
   "execution_count": 15,
   "metadata": {},
   "outputs": [
    {
     "data": {
      "text/plain": [
       "'18-03-27'"
      ]
     },
     "execution_count": 15,
     "metadata": {},
     "output_type": "execute_result"
    }
   ],
   "source": [
    "#datetime -> str\n",
    "stamp.strftime('%y-%m-%d')"
   ]
  },
  {
   "cell_type": "code",
   "execution_count": 16,
   "metadata": {},
   "outputs": [
    {
     "data": {
      "text/plain": [
       "'2018-03-27'"
      ]
     },
     "execution_count": 16,
     "metadata": {},
     "output_type": "execute_result"
    }
   ],
   "source": [
    "stamp.strftime('%Y-%m-%d')"
   ]
  },
  {
   "cell_type": "code",
   "execution_count": 17,
   "metadata": {},
   "outputs": [
    {
     "data": {
      "text/plain": [
       "'27-03-2018'"
      ]
     },
     "execution_count": 17,
     "metadata": {},
     "output_type": "execute_result"
    }
   ],
   "source": [
    "stamp.strftime('%d-%m-%Y')"
   ]
  },
  {
   "cell_type": "code",
   "execution_count": 18,
   "metadata": {},
   "outputs": [
    {
     "data": {
      "text/plain": [
       "str"
      ]
     },
     "execution_count": 18,
     "metadata": {},
     "output_type": "execute_result"
    }
   ],
   "source": [
    "value = '2018-03-27'\n",
    "type(value)"
   ]
  },
  {
   "cell_type": "code",
   "execution_count": 19,
   "metadata": {},
   "outputs": [
    {
     "data": {
      "text/plain": [
       "datetime.datetime(2018, 3, 27, 0, 0)"
      ]
     },
     "execution_count": 19,
     "metadata": {},
     "output_type": "execute_result"
    }
   ],
   "source": [
    "datetime.strptime(value, '%Y-%m-%d')"
   ]
  },
  {
   "cell_type": "markdown",
   "metadata": {},
   "source": [
    "매번 고정된 규칙을 따르는 것은 귀찮은 일이다.  \n",
    "대부분 사람들이 인지하는 날짜 표현 방식을 인식하여 파싱하기\n",
    "\n",
    "여러 규칙에 대응할 수 있는 좀 더 유연한 파싱:\n",
    "- dateutil.parser.parse('0000-00-00', dayfirst =T/F)\n",
    "\n",
    "장점: 정규화되지 않은 날짜 형식을 datetime 객체로 변환할 때 유용하다.  \n",
    "단점 : 날짜를 나타내지 않는 문자열도 datetime으로 변환하는 경우가 있다."
   ]
  },
  {
   "cell_type": "code",
   "execution_count": 20,
   "metadata": {},
   "outputs": [],
   "source": [
    "from dateutil.parser import parse"
   ]
  },
  {
   "cell_type": "code",
   "execution_count": 21,
   "metadata": {},
   "outputs": [
    {
     "data": {
      "text/plain": [
       "datetime.datetime(2011, 3, 14, 0, 0)"
      ]
     },
     "execution_count": 21,
     "metadata": {},
     "output_type": "execute_result"
    }
   ],
   "source": [
    "parse('2011/03/14')"
   ]
  },
  {
   "cell_type": "code",
   "execution_count": 22,
   "metadata": {},
   "outputs": [
    {
     "data": {
      "text/plain": [
       "datetime.datetime(2013, 2, 23, 0, 0)"
      ]
     },
     "execution_count": 22,
     "metadata": {},
     "output_type": "execute_result"
    }
   ],
   "source": [
    "parse('2013-2-23')"
   ]
  },
  {
   "cell_type": "code",
   "execution_count": 23,
   "metadata": {},
   "outputs": [
    {
     "data": {
      "text/plain": [
       "datetime.datetime(1997, 1, 31, 22, 45)"
      ]
     },
     "execution_count": 23,
     "metadata": {},
     "output_type": "execute_result"
    }
   ],
   "source": [
    "parse('Jan 31, 1997 10:45 pm')"
   ]
  },
  {
   "cell_type": "code",
   "execution_count": 24,
   "metadata": {},
   "outputs": [
    {
     "data": {
      "text/plain": [
       "datetime.datetime(1998, 7, 2, 0, 0)"
      ]
     },
     "execution_count": 24,
     "metadata": {},
     "output_type": "execute_result"
    }
   ],
   "source": [
    "parse('7/2/1998')\n",
    "#means Feburary 7th but,,\n",
    "#2월 7일을 표현하고 싶어.."
   ]
  },
  {
   "cell_type": "code",
   "execution_count": 25,
   "metadata": {},
   "outputs": [
    {
     "data": {
      "text/plain": [
       "datetime.datetime(1998, 2, 7, 0, 0)"
      ]
     },
     "execution_count": 25,
     "metadata": {},
     "output_type": "execute_result"
    }
   ],
   "source": [
    "parse('7/2/1998', dayfirst=True)"
   ]
  },
  {
   "cell_type": "code",
   "execution_count": 26,
   "metadata": {},
   "outputs": [
    {
     "name": "stdout",
     "output_type": "stream",
     "text": [
      "2017-03-24 00:23:00\n",
      "2000-04-23 13:00:00\n",
      "2018-03-15 18:00:00\n"
     ]
    }
   ],
   "source": [
    "notnorm_dt = ['2017/3/24 00:23', '13:00 23-4-2000', '15.3.2018 18:00']\n",
    "\n",
    "for i in notnorm_dt:\n",
    "    print(parse(i))"
   ]
  },
  {
   "cell_type": "markdown",
   "metadata": {},
   "source": [
    "## pandas의 to_datetime 메서드\n",
    "- pd.to_datetime()  : 많은 종류의 날짜형식을 DatetimeIndex 객체로 반환  \n",
    "dateutil.parser.parse() 메서드의 index화 버전이라고 생각해도 된다.\n",
    "\n",
    "DataFrame에서 날짜 형식의 col을 인자로 넘길 수 있다."
   ]
  },
  {
   "cell_type": "code",
   "execution_count": 27,
   "metadata": {},
   "outputs": [],
   "source": [
    "datestrs = ['7-6-2011 13:00', '8/6/2011']"
   ]
  },
  {
   "cell_type": "code",
   "execution_count": 28,
   "metadata": {},
   "outputs": [
    {
     "data": {
      "text/plain": [
       "DatetimeIndex(['2011-07-06 13:00:00', '2011-08-06 00:00:00'], dtype='datetime64[ns]', freq=None)"
      ]
     },
     "execution_count": 28,
     "metadata": {},
     "output_type": "execute_result"
    }
   ],
   "source": [
    "pd.to_datetime(datestrs)"
   ]
  },
  {
   "cell_type": "code",
   "execution_count": 29,
   "metadata": {},
   "outputs": [
    {
     "data": {
      "text/plain": [
       "DatetimeIndex(['2011-07-06 13:00:00', '2011-08-06 00:00:00', 'NaT'], dtype='datetime64[ns]', freq=None)"
      ]
     },
     "execution_count": 29,
     "metadata": {},
     "output_type": "execute_result"
    }
   ],
   "source": [
    "#날짜를 모르는 경우(None)값도 처리해준다. \n",
    "idx = pd.to_datetime(datestrs +[None])\n",
    "idx"
   ]
  },
  {
   "cell_type": "code",
   "execution_count": 30,
   "metadata": {},
   "outputs": [
    {
     "data": {
      "text/plain": [
       "array([False, False,  True])"
      ]
     },
     "execution_count": 30,
     "metadata": {},
     "output_type": "execute_result"
    }
   ],
   "source": [
    "pd.isnull(idx)"
   ]
  },
  {
   "cell_type": "markdown",
   "metadata": {},
   "source": [
    "# 10.2 시계열 기초\n",
    "기본적인 시계열 종류 : 타임스탬프로 색인된 Series 객체"
   ]
  },
  {
   "cell_type": "code",
   "execution_count": 31,
   "metadata": {},
   "outputs": [],
   "source": [
    "dates = [datetime(2011,1,2), datetime(2011,1,5), datetime(2011,1,7),\n",
    "        datetime(2011,1,8), datetime(2011,1,10), datetime(2011,1,12)]"
   ]
  },
  {
   "cell_type": "code",
   "execution_count": 32,
   "metadata": {},
   "outputs": [
    {
     "data": {
      "text/plain": [
       "2011-01-02   -0.274074\n",
       "2011-01-05    0.924186\n",
       "2011-01-07    0.167108\n",
       "2011-01-08   -1.720296\n",
       "2011-01-10   -1.117970\n",
       "2011-01-12   -0.946407\n",
       "dtype: float64"
      ]
     },
     "execution_count": 32,
     "metadata": {},
     "output_type": "execute_result"
    }
   ],
   "source": [
    "ts = pd.Series(np.random.randn(6), index=dates)\n",
    "ts"
   ]
  },
  {
   "cell_type": "code",
   "execution_count": 33,
   "metadata": {},
   "outputs": [
    {
     "data": {
      "text/plain": [
       "2011-01-02   -0.274074\n",
       "2011-01-07    0.167108\n",
       "2011-01-10   -1.117970\n",
       "dtype: float64"
      ]
     },
     "execution_count": 33,
     "metadata": {},
     "output_type": "execute_result"
    }
   ],
   "source": [
    "ts[::2]"
   ]
  },
  {
   "cell_type": "code",
   "execution_count": 34,
   "metadata": {},
   "outputs": [
    {
     "data": {
      "text/plain": [
       "2011-01-02   -0.548147\n",
       "2011-01-05         NaN\n",
       "2011-01-07    0.334216\n",
       "2011-01-08         NaN\n",
       "2011-01-10   -2.235940\n",
       "2011-01-12         NaN\n",
       "dtype: float64"
      ]
     },
     "execution_count": 34,
     "metadata": {},
     "output_type": "execute_result"
    }
   ],
   "source": [
    "ts + ts[::2]"
   ]
  },
  {
   "cell_type": "markdown",
   "metadata": {},
   "source": [
    "## 규칙적인 특정기간(날짜) 색인하기\n",
    "- pd.date_range('날짜 문자열', periods = 숫자(숫자만큼의 날), freq=)\n",
    "\n",
    "###### freq옵션\n",
    "- 'D' : day 별로 (default)\n",
    "- 'W' : week '날짜 문자열'- 다음의 가장 가까운 '일요일'부터 시작하여 '일요일만 체크'\n",
    "- 'M' : month 별로 마지막 날짜"
   ]
  },
  {
   "cell_type": "code",
   "execution_count": 35,
   "metadata": {},
   "outputs": [
    {
     "data": {
      "text/plain": [
       "DatetimeIndex(['2020-05-03', '2020-05-10', '2020-05-17', '2020-05-24',\n",
       "               '2020-05-31', '2020-06-07', '2020-06-14', '2020-06-21',\n",
       "               '2020-06-28', '2020-07-05', '2020-07-12', '2020-07-19',\n",
       "               '2020-07-26', '2020-08-02', '2020-08-09', '2020-08-16',\n",
       "               '2020-08-23', '2020-08-30', '2020-09-06', '2020-09-13',\n",
       "               '2020-09-20', '2020-09-27', '2020-10-04', '2020-10-11',\n",
       "               '2020-10-18', '2020-10-25', '2020-11-01', '2020-11-08',\n",
       "               '2020-11-15', '2020-11-22', '2020-11-29', '2020-12-06',\n",
       "               '2020-12-13', '2020-12-20', '2020-12-27', '2021-01-03',\n",
       "               '2021-01-10', '2021-01-17', '2021-01-24', '2021-01-31',\n",
       "               '2021-02-07', '2021-02-14', '2021-02-21', '2021-02-28',\n",
       "               '2021-03-07', '2021-03-14', '2021-03-21', '2021-03-28',\n",
       "               '2021-04-04', '2021-04-11', '2021-04-18', '2021-04-25',\n",
       "               '2021-05-02', '2021-05-09', '2021-05-16', '2021-05-23',\n",
       "               '2021-05-30', '2021-06-06', '2021-06-13', '2021-06-20',\n",
       "               '2021-06-27', '2021-07-04', '2021-07-11', '2021-07-18',\n",
       "               '2021-07-25', '2021-08-01', '2021-08-08', '2021-08-15',\n",
       "               '2021-08-22', '2021-08-29', '2021-09-05', '2021-09-12',\n",
       "               '2021-09-19', '2021-09-26', '2021-10-03', '2021-10-10',\n",
       "               '2021-10-17', '2021-10-24', '2021-10-31', '2021-11-07',\n",
       "               '2021-11-14', '2021-11-21', '2021-11-28', '2021-12-05',\n",
       "               '2021-12-12', '2021-12-19', '2021-12-26', '2022-01-02',\n",
       "               '2022-01-09', '2022-01-16', '2022-01-23', '2022-01-30',\n",
       "               '2022-02-06', '2022-02-13', '2022-02-20', '2022-02-27',\n",
       "               '2022-03-06', '2022-03-13', '2022-03-20', '2022-03-27'],\n",
       "              dtype='datetime64[ns]', freq='W-SUN')"
      ]
     },
     "execution_count": 35,
     "metadata": {},
     "output_type": "execute_result"
    }
   ],
   "source": [
    "pd.date_range('5/1/2020', periods = 100, freq = 'W')"
   ]
  },
  {
   "cell_type": "code",
   "execution_count": 36,
   "metadata": {},
   "outputs": [
    {
     "data": {
      "text/plain": [
       "DatetimeIndex(['2020-05-05', '2020-05-12', '2020-05-19', '2020-05-26',\n",
       "               '2020-06-02', '2020-06-09', '2020-06-16', '2020-06-23',\n",
       "               '2020-06-30', '2020-07-07', '2020-07-14', '2020-07-21',\n",
       "               '2020-07-28', '2020-08-04', '2020-08-11', '2020-08-18',\n",
       "               '2020-08-25', '2020-09-01', '2020-09-08', '2020-09-15',\n",
       "               '2020-09-22', '2020-09-29', '2020-10-06', '2020-10-13',\n",
       "               '2020-10-20', '2020-10-27', '2020-11-03', '2020-11-10',\n",
       "               '2020-11-17', '2020-11-24', '2020-12-01', '2020-12-08',\n",
       "               '2020-12-15', '2020-12-22', '2020-12-29', '2021-01-05',\n",
       "               '2021-01-12', '2021-01-19', '2021-01-26', '2021-02-02',\n",
       "               '2021-02-09', '2021-02-16', '2021-02-23', '2021-03-02',\n",
       "               '2021-03-09', '2021-03-16', '2021-03-23', '2021-03-30',\n",
       "               '2021-04-06', '2021-04-13', '2021-04-20', '2021-04-27',\n",
       "               '2021-05-04', '2021-05-11', '2021-05-18', '2021-05-25',\n",
       "               '2021-06-01', '2021-06-08', '2021-06-15', '2021-06-22',\n",
       "               '2021-06-29', '2021-07-06', '2021-07-13', '2021-07-20',\n",
       "               '2021-07-27', '2021-08-03', '2021-08-10', '2021-08-17',\n",
       "               '2021-08-24', '2021-08-31', '2021-09-07', '2021-09-14',\n",
       "               '2021-09-21', '2021-09-28', '2021-10-05', '2021-10-12',\n",
       "               '2021-10-19', '2021-10-26', '2021-11-02', '2021-11-09',\n",
       "               '2021-11-16', '2021-11-23', '2021-11-30', '2021-12-07',\n",
       "               '2021-12-14', '2021-12-21', '2021-12-28', '2022-01-04',\n",
       "               '2022-01-11', '2022-01-18', '2022-01-25', '2022-02-01',\n",
       "               '2022-02-08', '2022-02-15', '2022-02-22', '2022-03-01',\n",
       "               '2022-03-08', '2022-03-15', '2022-03-22', '2022-03-29'],\n",
       "              dtype='datetime64[ns]', freq='W-TUE')"
      ]
     },
     "execution_count": 36,
     "metadata": {},
     "output_type": "execute_result"
    }
   ],
   "source": [
    "pd.date_range('5/1/2020', periods = 100, freq = 'W-TUE')\n",
    "#입력 날짜로부터 가장 가까운 해당 요일부터 그 요일만 체크"
   ]
  },
  {
   "cell_type": "code",
   "execution_count": 37,
   "metadata": {},
   "outputs": [
    {
     "data": {
      "text/plain": [
       "DatetimeIndex(['2020-05-31', '2020-06-30', '2020-07-31', '2020-08-31',\n",
       "               '2020-09-30', '2020-10-31', '2020-11-30', '2020-12-31',\n",
       "               '2021-01-31', '2021-02-28', '2021-03-31', '2021-04-30',\n",
       "               '2021-05-31', '2021-06-30', '2021-07-31', '2021-08-31',\n",
       "               '2021-09-30', '2021-10-31', '2021-11-30', '2021-12-31',\n",
       "               '2022-01-31', '2022-02-28', '2022-03-31', '2022-04-30',\n",
       "               '2022-05-31', '2022-06-30', '2022-07-31', '2022-08-31',\n",
       "               '2022-09-30', '2022-10-31', '2022-11-30', '2022-12-31',\n",
       "               '2023-01-31', '2023-02-28', '2023-03-31', '2023-04-30',\n",
       "               '2023-05-31', '2023-06-30', '2023-07-31', '2023-08-31',\n",
       "               '2023-09-30', '2023-10-31', '2023-11-30', '2023-12-31',\n",
       "               '2024-01-31', '2024-02-29', '2024-03-31', '2024-04-30',\n",
       "               '2024-05-31', '2024-06-30'],\n",
       "              dtype='datetime64[ns]', freq='M')"
      ]
     },
     "execution_count": 37,
     "metadata": {},
     "output_type": "execute_result"
    }
   ],
   "source": [
    "pd.date_range('5/1/2020', periods = 50, freq ='M')\n",
    "#월의 마지막 날짜"
   ]
  },
  {
   "cell_type": "markdown",
   "metadata": {},
   "source": [
    "# 10.2.1 인덱싱, 선택, 부분 선택\n",
    "TimeSeries 객체 :Series의 하위 클래스, 인덱싱에서 Series와 동일하게 동작"
   ]
  },
  {
   "cell_type": "code",
   "execution_count": 38,
   "metadata": {},
   "outputs": [
    {
     "data": {
      "text/plain": [
       "2011-01-02   -0.274074\n",
       "2011-01-05    0.924186\n",
       "2011-01-07    0.167108\n",
       "2011-01-08   -1.720296\n",
       "2011-01-10   -1.117970\n",
       "2011-01-12   -0.946407\n",
       "dtype: float64"
      ]
     },
     "execution_count": 38,
     "metadata": {},
     "output_type": "execute_result"
    }
   ],
   "source": [
    "ts"
   ]
  },
  {
   "cell_type": "code",
   "execution_count": 39,
   "metadata": {},
   "outputs": [],
   "source": [
    "stmp = ts.index[2]"
   ]
  },
  {
   "cell_type": "code",
   "execution_count": 40,
   "metadata": {},
   "outputs": [
    {
     "data": {
      "text/plain": [
       "0.16710801051526247"
      ]
     },
     "execution_count": 40,
     "metadata": {},
     "output_type": "execute_result"
    }
   ],
   "source": [
    "ts[stmp]"
   ]
  },
  {
   "cell_type": "code",
   "execution_count": 41,
   "metadata": {},
   "outputs": [
    {
     "data": {
      "text/plain": [
       "-1.117970171206535"
      ]
     },
     "execution_count": 41,
     "metadata": {},
     "output_type": "execute_result"
    }
   ],
   "source": [
    "ts['1/10/2011']"
   ]
  },
  {
   "cell_type": "code",
   "execution_count": 42,
   "metadata": {},
   "outputs": [
    {
     "data": {
      "text/plain": [
       "-0.946406730697485"
      ]
     },
     "execution_count": 42,
     "metadata": {},
     "output_type": "execute_result"
    }
   ],
   "source": [
    "ts['20110112']"
   ]
  },
  {
   "cell_type": "markdown",
   "metadata": {},
   "source": [
    "긴 시계열에서는 년, 월, 일의 인덱스만 넘겨서 따로 추출 가능하다."
   ]
  },
  {
   "cell_type": "code",
   "execution_count": 43,
   "metadata": {},
   "outputs": [
    {
     "data": {
      "text/plain": [
       "2020-01-01    135\n",
       "2020-01-02    117\n",
       "2020-01-03    338\n",
       "2020-01-04    690\n",
       "2020-01-05     75\n",
       "             ... \n",
       "2021-08-18    296\n",
       "2021-08-19    606\n",
       "2021-08-20    322\n",
       "2021-08-21    796\n",
       "2021-08-22    109\n",
       "Freq: D, Length: 600, dtype: int32"
      ]
     },
     "execution_count": 43,
     "metadata": {},
     "output_type": "execute_result"
    }
   ],
   "source": [
    "longer_ts = pd.Series(np.random.randint(1000, size=600),\n",
    "                    index = pd.date_range('1/1/2020', periods = 600))\n",
    "longer_ts"
   ]
  },
  {
   "cell_type": "code",
   "execution_count": 44,
   "metadata": {},
   "outputs": [
    {
     "name": "stdout",
     "output_type": "stream",
     "text": [
      "start_time : 2020-01-01 00:00:00\n",
      "end_time : 2021-08-22 00:00:00\n"
     ]
    }
   ],
   "source": [
    "print('start_time : {0}\\nend_time : {1}'.format(longer_ts.index[0], longer_ts.index[-1]))"
   ]
  },
  {
   "cell_type": "code",
   "execution_count": 45,
   "metadata": {},
   "outputs": [
    {
     "data": {
      "text/plain": [
       "DatetimeIndex(['2020-01-01', '2020-01-02', '2020-01-03', '2020-01-04',\n",
       "               '2020-01-05', '2020-01-06', '2020-01-07', '2020-01-08',\n",
       "               '2020-01-09', '2020-01-10',\n",
       "               ...\n",
       "               '2021-08-13', '2021-08-14', '2021-08-15', '2021-08-16',\n",
       "               '2021-08-17', '2021-08-18', '2021-08-19', '2021-08-20',\n",
       "               '2021-08-21', '2021-08-22'],\n",
       "              dtype='datetime64[ns]', length=600, freq='D')"
      ]
     },
     "execution_count": 45,
     "metadata": {},
     "output_type": "execute_result"
    }
   ],
   "source": [
    "longer_ts.index"
   ]
  },
  {
   "cell_type": "code",
   "execution_count": 46,
   "metadata": {},
   "outputs": [
    {
     "data": {
      "text/plain": [
       "2020-01-01    135\n",
       "2020-01-02    117\n",
       "2020-01-03    338\n",
       "2020-01-04    690\n",
       "2020-01-05     75\n",
       "             ... \n",
       "2020-12-27    269\n",
       "2020-12-28    378\n",
       "2020-12-29    531\n",
       "2020-12-30    101\n",
       "2020-12-31    416\n",
       "Freq: D, Length: 366, dtype: int32"
      ]
     },
     "execution_count": 46,
     "metadata": {},
     "output_type": "execute_result"
    }
   ],
   "source": [
    "longer_ts['2020']"
   ]
  },
  {
   "cell_type": "code",
   "execution_count": 47,
   "metadata": {},
   "outputs": [
    {
     "data": {
      "text/plain": [
       "2020-03-01     59\n",
       "2020-03-02    713\n",
       "2020-03-03    867\n",
       "2020-03-04    609\n",
       "2020-03-05    728\n",
       "2020-03-06    776\n",
       "2020-03-07    332\n",
       "2020-03-08     87\n",
       "2020-03-09    566\n",
       "2020-03-10    842\n",
       "Freq: D, dtype: int32"
      ]
     },
     "execution_count": 47,
     "metadata": {},
     "output_type": "execute_result"
    }
   ],
   "source": [
    "longer_ts['2020-03'].head(10)"
   ]
  },
  {
   "cell_type": "code",
   "execution_count": 48,
   "metadata": {},
   "outputs": [
    {
     "data": {
      "text/plain": [
       "2021-01-07    260\n",
       "2021-01-08    422\n",
       "2021-01-09    738\n",
       "2021-01-10    125\n",
       "2021-01-11     69\n",
       "2021-01-12    868\n",
       "2021-01-13    359\n",
       "2021-01-14    209\n",
       "2021-01-15     94\n",
       "2021-01-16    587\n",
       "Freq: D, dtype: int32"
      ]
     },
     "execution_count": 48,
     "metadata": {},
     "output_type": "execute_result"
    }
   ],
   "source": [
    "#슬라이싱하는 방법은 Series와 동일\n",
    "longer_ts[datetime(2021,1,7):].head(10)"
   ]
  },
  {
   "cell_type": "code",
   "execution_count": 49,
   "metadata": {},
   "outputs": [
    {
     "data": {
      "text/plain": [
       "2020-01-03    338\n",
       "2020-01-04    690\n",
       "2020-01-05     75\n",
       "2020-01-06    628\n",
       "2020-01-07    441\n",
       "             ... \n",
       "2020-10-01     93\n",
       "2020-10-02    551\n",
       "2020-10-03    677\n",
       "2020-10-04    967\n",
       "2020-10-05    342\n",
       "Freq: D, Length: 277, dtype: int32"
      ]
     },
     "execution_count": 49,
     "metadata": {},
     "output_type": "execute_result"
    }
   ],
   "source": [
    "longer_ts['2020-01-03':'2020/10/5']"
   ]
  },
  {
   "cell_type": "markdown",
   "metadata": {},
   "source": [
    "- truncate() : TimeSeries를 2개의 날짜로 나누어준다.\n",
    "\n",
    "DataFrame에서도 동일 적용. 인덱스에 적용"
   ]
  },
  {
   "cell_type": "code",
   "execution_count": 50,
   "metadata": {},
   "outputs": [
    {
     "data": {
      "text/plain": [
       "2011-01-02   -0.274074\n",
       "2011-01-05    0.924186\n",
       "2011-01-07    0.167108\n",
       "2011-01-08   -1.720296\n",
       "2011-01-10   -1.117970\n",
       "2011-01-12   -0.946407\n",
       "dtype: float64"
      ]
     },
     "execution_count": 50,
     "metadata": {},
     "output_type": "execute_result"
    }
   ],
   "source": [
    "ts"
   ]
  },
  {
   "cell_type": "code",
   "execution_count": 51,
   "metadata": {},
   "outputs": [
    {
     "data": {
      "text/plain": [
       "2011-01-08   -1.720296\n",
       "2011-01-10   -1.117970\n",
       "2011-01-12   -0.946407\n",
       "dtype: float64"
      ]
     },
     "execution_count": 51,
     "metadata": {},
     "output_type": "execute_result"
    }
   ],
   "source": [
    "ts.truncate(before = '1/8/2011')\n",
    "# before 이전 데이터를 잘라내버림.\n",
    "## before 이후의 데이터를 추출"
   ]
  },
  {
   "cell_type": "code",
   "execution_count": 52,
   "metadata": {},
   "outputs": [
    {
     "data": {
      "text/plain": [
       "2011-01-02   -0.274074\n",
       "2011-01-05    0.924186\n",
       "2011-01-07    0.167108\n",
       "2011-01-08   -1.720296\n",
       "dtype: float64"
      ]
     },
     "execution_count": 52,
     "metadata": {},
     "output_type": "execute_result"
    }
   ],
   "source": [
    "ts.truncate(after = '1/8/2011')\n",
    "#after 이후의 데이터를 잘라내버림\n",
    "## after 이전의 데이터를 추출"
   ]
  },
  {
   "cell_type": "code",
   "execution_count": 53,
   "metadata": {},
   "outputs": [
    {
     "data": {
      "text/plain": [
       "DatetimeIndex(['2020-01-01', '2020-01-08', '2020-01-15', '2020-01-22',\n",
       "               '2020-01-29', '2020-02-05', '2020-02-12', '2020-02-19',\n",
       "               '2020-02-26', '2020-03-04', '2020-03-11', '2020-03-18',\n",
       "               '2020-03-25', '2020-04-01', '2020-04-08', '2020-04-15',\n",
       "               '2020-04-22', '2020-04-29', '2020-05-06', '2020-05-13',\n",
       "               '2020-05-20', '2020-05-27', '2020-06-03', '2020-06-10',\n",
       "               '2020-06-17', '2020-06-24', '2020-07-01', '2020-07-08',\n",
       "               '2020-07-15', '2020-07-22', '2020-07-29', '2020-08-05',\n",
       "               '2020-08-12', '2020-08-19', '2020-08-26', '2020-09-02',\n",
       "               '2020-09-09', '2020-09-16', '2020-09-23', '2020-09-30',\n",
       "               '2020-10-07', '2020-10-14', '2020-10-21', '2020-10-28',\n",
       "               '2020-11-04', '2020-11-11', '2020-11-18', '2020-11-25',\n",
       "               '2020-12-02', '2020-12-09', '2020-12-16', '2020-12-23',\n",
       "               '2020-12-30', '2021-01-06', '2021-01-13', '2021-01-20',\n",
       "               '2021-01-27', '2021-02-03', '2021-02-10', '2021-02-17',\n",
       "               '2021-02-24', '2021-03-03', '2021-03-10', '2021-03-17',\n",
       "               '2021-03-24', '2021-03-31', '2021-04-07', '2021-04-14',\n",
       "               '2021-04-21', '2021-04-28', '2021-05-05', '2021-05-12',\n",
       "               '2021-05-19', '2021-05-26', '2021-06-02', '2021-06-09',\n",
       "               '2021-06-16', '2021-06-23', '2021-06-30', '2021-07-07',\n",
       "               '2021-07-14', '2021-07-21', '2021-07-28', '2021-08-04',\n",
       "               '2021-08-11', '2021-08-18', '2021-08-25', '2021-09-01',\n",
       "               '2021-09-08', '2021-09-15', '2021-09-22', '2021-09-29',\n",
       "               '2021-10-06', '2021-10-13', '2021-10-20', '2021-10-27',\n",
       "               '2021-11-03', '2021-11-10', '2021-11-17', '2021-11-24'],\n",
       "              dtype='datetime64[ns]', freq='W-WED')"
      ]
     },
     "execution_count": 53,
     "metadata": {},
     "output_type": "execute_result"
    }
   ],
   "source": [
    "dates_pd = pd.date_range('1/1/2020', periods = 100, freq = 'W-WED')\n",
    "dates_pd"
   ]
  },
  {
   "cell_type": "code",
   "execution_count": 54,
   "metadata": {},
   "outputs": [],
   "source": [
    "long_df = pd.DataFrame(np.random.randint(100, size = 400).reshape(100,4),\n",
    "                      index = dates_pd,\n",
    "                      columns = ['colorado', 'texas', 'newyork', 'ohio'])"
   ]
  },
  {
   "cell_type": "code",
   "execution_count": 55,
   "metadata": {},
   "outputs": [
    {
     "data": {
      "text/html": [
       "<div>\n",
       "<style scoped>\n",
       "    .dataframe tbody tr th:only-of-type {\n",
       "        vertical-align: middle;\n",
       "    }\n",
       "\n",
       "    .dataframe tbody tr th {\n",
       "        vertical-align: top;\n",
       "    }\n",
       "\n",
       "    .dataframe thead th {\n",
       "        text-align: right;\n",
       "    }\n",
       "</style>\n",
       "<table border=\"1\" class=\"dataframe\">\n",
       "  <thead>\n",
       "    <tr style=\"text-align: right;\">\n",
       "      <th></th>\n",
       "      <th>colorado</th>\n",
       "      <th>texas</th>\n",
       "      <th>newyork</th>\n",
       "      <th>ohio</th>\n",
       "    </tr>\n",
       "  </thead>\n",
       "  <tbody>\n",
       "    <tr>\n",
       "      <td>2020-01-01</td>\n",
       "      <td>79</td>\n",
       "      <td>46</td>\n",
       "      <td>1</td>\n",
       "      <td>72</td>\n",
       "    </tr>\n",
       "    <tr>\n",
       "      <td>2020-01-08</td>\n",
       "      <td>56</td>\n",
       "      <td>10</td>\n",
       "      <td>33</td>\n",
       "      <td>49</td>\n",
       "    </tr>\n",
       "    <tr>\n",
       "      <td>2020-01-15</td>\n",
       "      <td>2</td>\n",
       "      <td>8</td>\n",
       "      <td>77</td>\n",
       "      <td>11</td>\n",
       "    </tr>\n",
       "    <tr>\n",
       "      <td>2020-01-22</td>\n",
       "      <td>41</td>\n",
       "      <td>35</td>\n",
       "      <td>21</td>\n",
       "      <td>69</td>\n",
       "    </tr>\n",
       "    <tr>\n",
       "      <td>2020-01-29</td>\n",
       "      <td>17</td>\n",
       "      <td>9</td>\n",
       "      <td>35</td>\n",
       "      <td>46</td>\n",
       "    </tr>\n",
       "    <tr>\n",
       "      <td>2020-02-05</td>\n",
       "      <td>0</td>\n",
       "      <td>38</td>\n",
       "      <td>8</td>\n",
       "      <td>82</td>\n",
       "    </tr>\n",
       "    <tr>\n",
       "      <td>2020-02-12</td>\n",
       "      <td>86</td>\n",
       "      <td>33</td>\n",
       "      <td>46</td>\n",
       "      <td>99</td>\n",
       "    </tr>\n",
       "    <tr>\n",
       "      <td>2020-02-19</td>\n",
       "      <td>78</td>\n",
       "      <td>0</td>\n",
       "      <td>25</td>\n",
       "      <td>81</td>\n",
       "    </tr>\n",
       "    <tr>\n",
       "      <td>2020-02-26</td>\n",
       "      <td>61</td>\n",
       "      <td>63</td>\n",
       "      <td>56</td>\n",
       "      <td>83</td>\n",
       "    </tr>\n",
       "    <tr>\n",
       "      <td>2020-03-04</td>\n",
       "      <td>6</td>\n",
       "      <td>20</td>\n",
       "      <td>97</td>\n",
       "      <td>7</td>\n",
       "    </tr>\n",
       "  </tbody>\n",
       "</table>\n",
       "</div>"
      ],
      "text/plain": [
       "            colorado  texas  newyork  ohio\n",
       "2020-01-01        79     46        1    72\n",
       "2020-01-08        56     10       33    49\n",
       "2020-01-15         2      8       77    11\n",
       "2020-01-22        41     35       21    69\n",
       "2020-01-29        17      9       35    46\n",
       "2020-02-05         0     38        8    82\n",
       "2020-02-12        86     33       46    99\n",
       "2020-02-19        78      0       25    81\n",
       "2020-02-26        61     63       56    83\n",
       "2020-03-04         6     20       97     7"
      ]
     },
     "execution_count": 55,
     "metadata": {},
     "output_type": "execute_result"
    }
   ],
   "source": [
    "long_df.head(10)"
   ]
  },
  {
   "cell_type": "code",
   "execution_count": 56,
   "metadata": {},
   "outputs": [
    {
     "data": {
      "text/html": [
       "<div>\n",
       "<style scoped>\n",
       "    .dataframe tbody tr th:only-of-type {\n",
       "        vertical-align: middle;\n",
       "    }\n",
       "\n",
       "    .dataframe tbody tr th {\n",
       "        vertical-align: top;\n",
       "    }\n",
       "\n",
       "    .dataframe thead th {\n",
       "        text-align: right;\n",
       "    }\n",
       "</style>\n",
       "<table border=\"1\" class=\"dataframe\">\n",
       "  <thead>\n",
       "    <tr style=\"text-align: right;\">\n",
       "      <th></th>\n",
       "      <th>colorado</th>\n",
       "      <th>texas</th>\n",
       "      <th>newyork</th>\n",
       "      <th>ohio</th>\n",
       "    </tr>\n",
       "  </thead>\n",
       "  <tbody>\n",
       "    <tr>\n",
       "      <td>2020-05-06</td>\n",
       "      <td>99</td>\n",
       "      <td>57</td>\n",
       "      <td>47</td>\n",
       "      <td>67</td>\n",
       "    </tr>\n",
       "    <tr>\n",
       "      <td>2020-05-13</td>\n",
       "      <td>15</td>\n",
       "      <td>67</td>\n",
       "      <td>0</td>\n",
       "      <td>63</td>\n",
       "    </tr>\n",
       "    <tr>\n",
       "      <td>2020-05-20</td>\n",
       "      <td>25</td>\n",
       "      <td>66</td>\n",
       "      <td>42</td>\n",
       "      <td>16</td>\n",
       "    </tr>\n",
       "    <tr>\n",
       "      <td>2020-05-27</td>\n",
       "      <td>82</td>\n",
       "      <td>83</td>\n",
       "      <td>15</td>\n",
       "      <td>41</td>\n",
       "    </tr>\n",
       "  </tbody>\n",
       "</table>\n",
       "</div>"
      ],
      "text/plain": [
       "            colorado  texas  newyork  ohio\n",
       "2020-05-06        99     57       47    67\n",
       "2020-05-13        15     67        0    63\n",
       "2020-05-20        25     66       42    16\n",
       "2020-05-27        82     83       15    41"
      ]
     },
     "execution_count": 56,
     "metadata": {},
     "output_type": "execute_result"
    }
   ],
   "source": [
    "long_df['5-2020']"
   ]
  },
  {
   "cell_type": "code",
   "execution_count": 57,
   "metadata": {},
   "outputs": [
    {
     "data": {
      "text/html": [
       "<div>\n",
       "<style scoped>\n",
       "    .dataframe tbody tr th:only-of-type {\n",
       "        vertical-align: middle;\n",
       "    }\n",
       "\n",
       "    .dataframe tbody tr th {\n",
       "        vertical-align: top;\n",
       "    }\n",
       "\n",
       "    .dataframe thead th {\n",
       "        text-align: right;\n",
       "    }\n",
       "</style>\n",
       "<table border=\"1\" class=\"dataframe\">\n",
       "  <thead>\n",
       "    <tr style=\"text-align: right;\">\n",
       "      <th></th>\n",
       "      <th>colorado</th>\n",
       "      <th>texas</th>\n",
       "      <th>newyork</th>\n",
       "      <th>ohio</th>\n",
       "    </tr>\n",
       "  </thead>\n",
       "  <tbody>\n",
       "    <tr>\n",
       "      <td>2021-01-06</td>\n",
       "      <td>68</td>\n",
       "      <td>59</td>\n",
       "      <td>7</td>\n",
       "      <td>26</td>\n",
       "    </tr>\n",
       "    <tr>\n",
       "      <td>2021-01-13</td>\n",
       "      <td>93</td>\n",
       "      <td>37</td>\n",
       "      <td>33</td>\n",
       "      <td>62</td>\n",
       "    </tr>\n",
       "    <tr>\n",
       "      <td>2021-01-20</td>\n",
       "      <td>8</td>\n",
       "      <td>66</td>\n",
       "      <td>23</td>\n",
       "      <td>95</td>\n",
       "    </tr>\n",
       "    <tr>\n",
       "      <td>2021-01-27</td>\n",
       "      <td>12</td>\n",
       "      <td>73</td>\n",
       "      <td>54</td>\n",
       "      <td>20</td>\n",
       "    </tr>\n",
       "    <tr>\n",
       "      <td>2021-02-03</td>\n",
       "      <td>57</td>\n",
       "      <td>50</td>\n",
       "      <td>11</td>\n",
       "      <td>77</td>\n",
       "    </tr>\n",
       "    <tr>\n",
       "      <td>2021-02-10</td>\n",
       "      <td>10</td>\n",
       "      <td>98</td>\n",
       "      <td>92</td>\n",
       "      <td>39</td>\n",
       "    </tr>\n",
       "    <tr>\n",
       "      <td>2021-02-17</td>\n",
       "      <td>26</td>\n",
       "      <td>68</td>\n",
       "      <td>27</td>\n",
       "      <td>14</td>\n",
       "    </tr>\n",
       "    <tr>\n",
       "      <td>2021-02-24</td>\n",
       "      <td>60</td>\n",
       "      <td>37</td>\n",
       "      <td>7</td>\n",
       "      <td>42</td>\n",
       "    </tr>\n",
       "    <tr>\n",
       "      <td>2021-03-03</td>\n",
       "      <td>54</td>\n",
       "      <td>86</td>\n",
       "      <td>3</td>\n",
       "      <td>12</td>\n",
       "    </tr>\n",
       "    <tr>\n",
       "      <td>2021-03-10</td>\n",
       "      <td>70</td>\n",
       "      <td>54</td>\n",
       "      <td>88</td>\n",
       "      <td>93</td>\n",
       "    </tr>\n",
       "  </tbody>\n",
       "</table>\n",
       "</div>"
      ],
      "text/plain": [
       "            colorado  texas  newyork  ohio\n",
       "2021-01-06        68     59        7    26\n",
       "2021-01-13        93     37       33    62\n",
       "2021-01-20         8     66       23    95\n",
       "2021-01-27        12     73       54    20\n",
       "2021-02-03        57     50       11    77\n",
       "2021-02-10        10     98       92    39\n",
       "2021-02-17        26     68       27    14\n",
       "2021-02-24        60     37        7    42\n",
       "2021-03-03        54     86        3    12\n",
       "2021-03-10        70     54       88    93"
      ]
     },
     "execution_count": 57,
     "metadata": {},
     "output_type": "execute_result"
    }
   ],
   "source": [
    "long_df['2021'].head(10)"
   ]
  },
  {
   "cell_type": "markdown",
   "metadata": {},
   "source": [
    "# 10.2.2 중복된 색인을 갖는 시계열\n",
    "중복된 timestamp에 여러 데이터가 몰려있는 경우.  \n",
    "즉, 서로 다른 데이터가 같은 날짜로 적혀있는 경우"
   ]
  },
  {
   "cell_type": "code",
   "execution_count": 58,
   "metadata": {},
   "outputs": [],
   "source": [
    "dates_dup = pd.DatetimeIndex(['1/1/2020'] + ['1/2/2020']*3 + ['1/3/2020'])"
   ]
  },
  {
   "cell_type": "code",
   "execution_count": 59,
   "metadata": {},
   "outputs": [
    {
     "data": {
      "text/plain": [
       "2020-01-01    0\n",
       "2020-01-02    1\n",
       "2020-01-02    2\n",
       "2020-01-02    3\n",
       "2020-01-03    4\n",
       "dtype: int32"
      ]
     },
     "execution_count": 59,
     "metadata": {},
     "output_type": "execute_result"
    }
   ],
   "source": [
    "dup_ts = pd.Series(np.arange(5), index=dates_dup)\n",
    "dup_ts"
   ]
  },
  {
   "cell_type": "code",
   "execution_count": 60,
   "metadata": {},
   "outputs": [
    {
     "data": {
      "text/plain": [
       "False"
      ]
     },
     "execution_count": 60,
     "metadata": {},
     "output_type": "execute_result"
    }
   ],
   "source": [
    "dup_ts.index.is_unique"
   ]
  },
  {
   "cell_type": "code",
   "execution_count": 61,
   "metadata": {},
   "outputs": [
    {
     "data": {
      "text/plain": [
       "array([False, False,  True,  True, False])"
      ]
     },
     "execution_count": 61,
     "metadata": {},
     "output_type": "execute_result"
    }
   ],
   "source": [
    "dup_ts.index.duplicated()"
   ]
  },
  {
   "cell_type": "code",
   "execution_count": 62,
   "metadata": {},
   "outputs": [
    {
     "data": {
      "text/plain": [
       "2020-01-02    1\n",
       "2020-01-02    2\n",
       "2020-01-02    3\n",
       "dtype: int32"
      ]
     },
     "execution_count": 62,
     "metadata": {},
     "output_type": "execute_result"
    }
   ],
   "source": [
    "dup_ts['1/2/2020']"
   ]
  },
  {
   "cell_type": "code",
   "execution_count": 63,
   "metadata": {},
   "outputs": [
    {
     "data": {
      "text/plain": [
       "2020-01-01    0\n",
       "2020-01-02    2\n",
       "2020-01-03    4\n",
       "dtype: int32"
      ]
     },
     "execution_count": 63,
     "metadata": {},
     "output_type": "execute_result"
    }
   ],
   "source": [
    "dup_ts.groupby(level=0).mean()"
   ]
  },
  {
   "cell_type": "code",
   "execution_count": 64,
   "metadata": {},
   "outputs": [
    {
     "data": {
      "text/plain": [
       "2020-01-01    1\n",
       "2020-01-02    3\n",
       "2020-01-03    1\n",
       "dtype: int64"
      ]
     },
     "execution_count": 64,
     "metadata": {},
     "output_type": "execute_result"
    }
   ],
   "source": [
    "dup_ts.groupby(dup_ts.index).count()"
   ]
  },
  {
   "cell_type": "markdown",
   "metadata": {},
   "source": [
    "# 10.3.1 날짜 범위 생성하기\n",
    "- pd.date_range : range나 np.arange와 비슷한 [특정 규칙이 있는 '날짜']를 생성하는 메서드.\n",
    "    + pd.date_range(start= ,end= , periods= , freq= , normalize=T/F)\n",
    "    + 특정 빈도(freq)에 따라 길이(periods)만큼의 DatetimeIndex 생성"
   ]
  },
  {
   "cell_type": "code",
   "execution_count": 65,
   "metadata": {},
   "outputs": [
    {
     "data": {
      "text/plain": [
       "DatetimeIndex(['2020-04-01', '2020-04-02', '2020-04-03', '2020-04-04',\n",
       "               '2020-04-05', '2020-04-06', '2020-04-07', '2020-04-08',\n",
       "               '2020-04-09', '2020-04-10', '2020-04-11', '2020-04-12',\n",
       "               '2020-04-13', '2020-04-14', '2020-04-15', '2020-04-16',\n",
       "               '2020-04-17', '2020-04-18', '2020-04-19', '2020-04-20',\n",
       "               '2020-04-21', '2020-04-22', '2020-04-23', '2020-04-24',\n",
       "               '2020-04-25', '2020-04-26', '2020-04-27', '2020-04-28',\n",
       "               '2020-04-29', '2020-04-30', '2020-05-01', '2020-05-02',\n",
       "               '2020-05-03', '2020-05-04', '2020-05-05', '2020-05-06',\n",
       "               '2020-05-07', '2020-05-08', '2020-05-09', '2020-05-10',\n",
       "               '2020-05-11', '2020-05-12', '2020-05-13', '2020-05-14',\n",
       "               '2020-05-15', '2020-05-16', '2020-05-17', '2020-05-18',\n",
       "               '2020-05-19', '2020-05-20', '2020-05-21', '2020-05-22',\n",
       "               '2020-05-23', '2020-05-24', '2020-05-25', '2020-05-26',\n",
       "               '2020-05-27', '2020-05-28', '2020-05-29', '2020-05-30',\n",
       "               '2020-05-31', '2020-06-01'],\n",
       "              dtype='datetime64[ns]', freq='D')"
      ]
     },
     "execution_count": 65,
     "metadata": {},
     "output_type": "execute_result"
    }
   ],
   "source": [
    "index = pd.date_range('4/1/2020', '6/1/2020')\n",
    "index"
   ]
  },
  {
   "cell_type": "code",
   "execution_count": 66,
   "metadata": {},
   "outputs": [
    {
     "data": {
      "text/plain": [
       "DatetimeIndex(['2020-01-01', '2020-01-02', '2020-01-03', '2020-01-04',\n",
       "               '2020-01-05', '2020-01-06', '2020-01-07', '2020-01-08',\n",
       "               '2020-01-09', '2020-01-10', '2020-01-11', '2020-01-12',\n",
       "               '2020-01-13', '2020-01-14', '2020-01-15', '2020-01-16',\n",
       "               '2020-01-17', '2020-01-18', '2020-01-19', '2020-01-20'],\n",
       "              dtype='datetime64[ns]', freq='D')"
      ]
     },
     "execution_count": 66,
     "metadata": {},
     "output_type": "execute_result"
    }
   ],
   "source": [
    "pd.date_range(start='1/1/2020', periods=20)"
   ]
  },
  {
   "cell_type": "code",
   "execution_count": 67,
   "metadata": {},
   "outputs": [
    {
     "data": {
      "text/plain": [
       "DatetimeIndex(['2019-12-13', '2019-12-14', '2019-12-15', '2019-12-16',\n",
       "               '2019-12-17', '2019-12-18', '2019-12-19', '2019-12-20',\n",
       "               '2019-12-21', '2019-12-22', '2019-12-23', '2019-12-24',\n",
       "               '2019-12-25', '2019-12-26', '2019-12-27', '2019-12-28',\n",
       "               '2019-12-29', '2019-12-30', '2019-12-31', '2020-01-01'],\n",
       "              dtype='datetime64[ns]', freq='D')"
      ]
     },
     "execution_count": 67,
     "metadata": {},
     "output_type": "execute_result"
    }
   ],
   "source": [
    "pd.date_range(end = '1/1/2020', periods=20)"
   ]
  },
  {
   "cell_type": "code",
   "execution_count": 68,
   "metadata": {},
   "outputs": [
    {
     "data": {
      "text/plain": [
       "DatetimeIndex(['2020-01-01 12:23:54', '2020-01-02 12:23:54',\n",
       "               '2020-01-03 12:23:54', '2020-01-04 12:23:54',\n",
       "               '2020-01-05 12:23:54', '2020-01-06 12:23:54',\n",
       "               '2020-01-07 12:23:54', '2020-01-08 12:23:54',\n",
       "               '2020-01-09 12:23:54', '2020-01-10 12:23:54',\n",
       "               '2020-01-11 12:23:54', '2020-01-12 12:23:54',\n",
       "               '2020-01-13 12:23:54', '2020-01-14 12:23:54',\n",
       "               '2020-01-15 12:23:54', '2020-01-16 12:23:54',\n",
       "               '2020-01-17 12:23:54', '2020-01-18 12:23:54',\n",
       "               '2020-01-19 12:23:54', '2020-01-20 12:23:54'],\n",
       "              dtype='datetime64[ns]', freq='D')"
      ]
     },
     "execution_count": 68,
     "metadata": {},
     "output_type": "execute_result"
    }
   ],
   "source": [
    "pd.date_range('1/1/2020 12:23:54', periods = 20)"
   ]
  },
  {
   "cell_type": "code",
   "execution_count": 69,
   "metadata": {},
   "outputs": [
    {
     "data": {
      "text/plain": [
       "DatetimeIndex(['2020-01-01', '2020-01-02', '2020-01-03', '2020-01-04',\n",
       "               '2020-01-05', '2020-01-06', '2020-01-07', '2020-01-08',\n",
       "               '2020-01-09', '2020-01-10', '2020-01-11', '2020-01-12',\n",
       "               '2020-01-13', '2020-01-14', '2020-01-15', '2020-01-16',\n",
       "               '2020-01-17', '2020-01-18', '2020-01-19', '2020-01-20',\n",
       "               '2020-01-21', '2020-01-22', '2020-01-23', '2020-01-24',\n",
       "               '2020-01-25', '2020-01-26', '2020-01-27', '2020-01-28',\n",
       "               '2020-01-29', '2020-01-30', '2020-01-31', '2020-02-01',\n",
       "               '2020-02-02', '2020-02-03', '2020-02-04', '2020-02-05',\n",
       "               '2020-02-06', '2020-02-07', '2020-02-08', '2020-02-09',\n",
       "               '2020-02-10', '2020-02-11', '2020-02-12', '2020-02-13',\n",
       "               '2020-02-14', '2020-02-15', '2020-02-16', '2020-02-17',\n",
       "               '2020-02-18', '2020-02-19', '2020-02-20', '2020-02-21',\n",
       "               '2020-02-22', '2020-02-23', '2020-02-24', '2020-02-25',\n",
       "               '2020-02-26', '2020-02-27', '2020-02-28', '2020-02-29',\n",
       "               '2020-03-01'],\n",
       "              dtype='datetime64[ns]', freq='D')"
      ]
     },
     "execution_count": 69,
     "metadata": {},
     "output_type": "execute_result"
    }
   ],
   "source": [
    "#시간을 살리고 십지 않으면 normalize = True 옵션\n",
    "pd.date_range('1/1/2020 12:23:54', '3/1/2020 23:23:08', normalize=True)"
   ]
  },
  {
   "cell_type": "markdown",
   "metadata": {},
   "source": [
    "# 10.3.2 빈도와 날짜 오프셋\n",
    "pandas에서 빈도란: 기본빈도와 배수의 조합\n",
    "- 기본 빈도: 'M'(월별), 'H'(시간별)\n",
    "- 날짜 오프셋 : datetime의 timedelta와 유사"
   ]
  },
  {
   "cell_type": "code",
   "execution_count": 70,
   "metadata": {},
   "outputs": [],
   "source": [
    "from pandas.tseries.offsets import Hour, Minute"
   ]
  },
  {
   "cell_type": "code",
   "execution_count": 71,
   "metadata": {},
   "outputs": [],
   "source": [
    "hour = Hour()"
   ]
  },
  {
   "cell_type": "code",
   "execution_count": 72,
   "metadata": {},
   "outputs": [
    {
     "data": {
      "text/plain": [
       "<4 * Hours>"
      ]
     },
     "execution_count": 72,
     "metadata": {},
     "output_type": "execute_result"
    }
   ],
   "source": [
    "four_hour = Hour(4)\n",
    "four_hour"
   ]
  },
  {
   "cell_type": "code",
   "execution_count": 73,
   "metadata": {},
   "outputs": [
    {
     "data": {
      "text/plain": [
       "<260 * Minutes>"
      ]
     },
     "execution_count": 73,
     "metadata": {},
     "output_type": "execute_result"
    }
   ],
   "source": [
    "Hour(4) + Minute(20)"
   ]
  },
  {
   "cell_type": "code",
   "execution_count": 74,
   "metadata": {},
   "outputs": [
    {
     "data": {
      "text/plain": [
       "DatetimeIndex(['2020-01-01 00:00:00', '2020-01-01 04:00:00',\n",
       "               '2020-01-01 08:00:00', '2020-01-01 12:00:00',\n",
       "               '2020-01-01 16:00:00', '2020-01-01 20:00:00',\n",
       "               '2020-01-02 00:00:00', '2020-01-02 04:00:00',\n",
       "               '2020-01-02 08:00:00', '2020-01-02 12:00:00',\n",
       "               '2020-01-02 16:00:00', '2020-01-02 20:00:00',\n",
       "               '2020-01-03 00:00:00', '2020-01-03 04:00:00',\n",
       "               '2020-01-03 08:00:00', '2020-01-03 12:00:00',\n",
       "               '2020-01-03 16:00:00', '2020-01-03 20:00:00'],\n",
       "              dtype='datetime64[ns]', freq='4H')"
      ]
     },
     "execution_count": 74,
     "metadata": {},
     "output_type": "execute_result"
    }
   ],
   "source": [
    "pd.date_range('1/1/2020', '1/3/2020 23:59:59', freq = '4h')"
   ]
  },
  {
   "cell_type": "code",
   "execution_count": 75,
   "metadata": {},
   "outputs": [
    {
     "data": {
      "text/plain": [
       "DatetimeIndex(['2020-01-01 00:00:00', '2020-01-01 02:30:00',\n",
       "               '2020-01-01 05:00:00', '2020-01-01 07:30:00',\n",
       "               '2020-01-01 10:00:00', '2020-01-01 12:30:00',\n",
       "               '2020-01-01 15:00:00', '2020-01-01 17:30:00',\n",
       "               '2020-01-01 20:00:00', '2020-01-01 22:30:00',\n",
       "               '2020-01-02 01:00:00', '2020-01-02 03:30:00',\n",
       "               '2020-01-02 06:00:00', '2020-01-02 08:30:00',\n",
       "               '2020-01-02 11:00:00', '2020-01-02 13:30:00',\n",
       "               '2020-01-02 16:00:00', '2020-01-02 18:30:00',\n",
       "               '2020-01-02 21:00:00', '2020-01-02 23:30:00'],\n",
       "              dtype='datetime64[ns]', freq='150T')"
      ]
     },
     "execution_count": 75,
     "metadata": {},
     "output_type": "execute_result"
    }
   ],
   "source": [
    "pd.date_range('1/1/2020', periods =20 , freq ='2h30min')"
   ]
  },
  {
   "cell_type": "markdown",
   "metadata": {},
   "source": [
    "월별 주차  \n",
    "- freq = 'WOM-3FRI' : Week of Month 셋 째주 금요일"
   ]
  },
  {
   "cell_type": "code",
   "execution_count": 76,
   "metadata": {},
   "outputs": [],
   "source": [
    "rng = pd.date_range('1/1/2020', periods = 4, freq = 'WOM-2TUE')"
   ]
  },
  {
   "cell_type": "code",
   "execution_count": 77,
   "metadata": {},
   "outputs": [
    {
     "data": {
      "text/plain": [
       "DatetimeIndex(['2020-01-14', '2020-02-11', '2020-03-10', '2020-04-14'], dtype='datetime64[ns]', freq='WOM-2TUE')"
      ]
     },
     "execution_count": 77,
     "metadata": {},
     "output_type": "execute_result"
    }
   ],
   "source": [
    "rng"
   ]
  },
  {
   "cell_type": "markdown",
   "metadata": {},
   "source": [
    "# 10.3.3 데이터 시프트\n",
    "데이터를 시간 축에서 앞, 뒤로 이동시키는 것  \n",
    "pandas나 Series의 하위 메서드  \n",
    "timestamp 인덱스를 변경시키지 않고 데이터를 앞이나 뒤로 유연하게 이동시키기  \n",
    "\n",
    "여러 시계열에서 퍼센트 변화를 계산할 때 흔히 사용"
   ]
  },
  {
   "cell_type": "code",
   "execution_count": 78,
   "metadata": {},
   "outputs": [],
   "source": [
    "np.random.seed(5)\n",
    "ts_shift = pd.Series(np.random.randint(10, size=10), \n",
    "                    index = pd.date_range('1/1/2020', periods=10))"
   ]
  },
  {
   "cell_type": "code",
   "execution_count": 79,
   "metadata": {},
   "outputs": [
    {
     "data": {
      "text/plain": [
       "2020-01-01    3\n",
       "2020-01-02    6\n",
       "2020-01-03    6\n",
       "2020-01-04    0\n",
       "2020-01-05    9\n",
       "2020-01-06    8\n",
       "2020-01-07    4\n",
       "2020-01-08    7\n",
       "2020-01-09    0\n",
       "2020-01-10    0\n",
       "Freq: D, dtype: int32"
      ]
     },
     "execution_count": 79,
     "metadata": {},
     "output_type": "execute_result"
    }
   ],
   "source": [
    "ts_shift"
   ]
  },
  {
   "cell_type": "code",
   "execution_count": 80,
   "metadata": {},
   "outputs": [
    {
     "data": {
      "text/plain": [
       "2020-01-01    6.0\n",
       "2020-01-02    0.0\n",
       "2020-01-03    9.0\n",
       "2020-01-04    8.0\n",
       "2020-01-05    4.0\n",
       "2020-01-06    7.0\n",
       "2020-01-07    0.0\n",
       "2020-01-08    0.0\n",
       "2020-01-09    NaN\n",
       "2020-01-10    NaN\n",
       "Freq: D, dtype: float64"
      ]
     },
     "execution_count": 80,
     "metadata": {},
     "output_type": "execute_result"
    }
   ],
   "source": [
    "ts_shift.shift(-2)\n",
    "#앞으로 두 인덱스를 당긴다"
   ]
  },
  {
   "cell_type": "code",
   "execution_count": 81,
   "metadata": {},
   "outputs": [
    {
     "data": {
      "text/plain": [
       "2020-01-01    NaN\n",
       "2020-01-02    NaN\n",
       "2020-01-03    NaN\n",
       "2020-01-04    3.0\n",
       "2020-01-05    6.0\n",
       "2020-01-06    6.0\n",
       "2020-01-07    0.0\n",
       "2020-01-08    9.0\n",
       "2020-01-09    8.0\n",
       "2020-01-10    4.0\n",
       "Freq: D, dtype: float64"
      ]
     },
     "execution_count": 81,
     "metadata": {},
     "output_type": "execute_result"
    }
   ],
   "source": [
    "ts_shift.shift(3)\n",
    "#뒤로 세 인덱스를 민다."
   ]
  },
  {
   "cell_type": "code",
   "execution_count": 82,
   "metadata": {},
   "outputs": [
    {
     "data": {
      "text/plain": [
       "2020-01-01    3\n",
       "2020-01-02    6\n",
       "2020-01-03    6\n",
       "2020-01-04    0\n",
       "2020-01-05    9\n",
       "2020-01-06    8\n",
       "2020-01-07    4\n",
       "2020-01-08    7\n",
       "2020-01-09    0\n",
       "2020-01-10    0\n",
       "Freq: D, dtype: int32"
      ]
     },
     "execution_count": 82,
     "metadata": {},
     "output_type": "execute_result"
    }
   ],
   "source": [
    "ts_shift"
   ]
  },
  {
   "cell_type": "code",
   "execution_count": 83,
   "metadata": {},
   "outputs": [
    {
     "data": {
      "text/plain": [
       "2020-01-01         NaN\n",
       "2020-01-02    1.000000\n",
       "2020-01-03    0.000000\n",
       "2020-01-04   -1.000000\n",
       "2020-01-05         inf\n",
       "2020-01-06   -0.111111\n",
       "2020-01-07   -0.500000\n",
       "2020-01-08    0.750000\n",
       "2020-01-09   -1.000000\n",
       "2020-01-10         NaN\n",
       "Freq: D, dtype: float64"
      ]
     },
     "execution_count": 83,
     "metadata": {},
     "output_type": "execute_result"
    }
   ],
   "source": [
    "ts_shift / ts_shift.shift(1) -1"
   ]
  },
  {
   "cell_type": "code",
   "execution_count": 84,
   "metadata": {},
   "outputs": [
    {
     "data": {
      "text/plain": [
       "2020-01-01    NaN\n",
       "2020-01-02    NaN\n",
       "2020-01-03    NaN\n",
       "2020-01-04    3.0\n",
       "2020-01-05    6.0\n",
       "2020-01-06    6.0\n",
       "2020-01-07    0.0\n",
       "2020-01-08    9.0\n",
       "2020-01-09    8.0\n",
       "2020-01-10    4.0\n",
       "Freq: D, dtype: float64"
      ]
     },
     "execution_count": 84,
     "metadata": {},
     "output_type": "execute_result"
    }
   ],
   "source": [
    "ts_shift.shift(3)"
   ]
  },
  {
   "cell_type": "code",
   "execution_count": 85,
   "metadata": {},
   "outputs": [
    {
     "data": {
      "text/plain": [
       "2020-01-04    3\n",
       "2020-01-05    6\n",
       "2020-01-06    6\n",
       "2020-01-07    0\n",
       "2020-01-08    9\n",
       "2020-01-09    8\n",
       "2020-01-10    4\n",
       "2020-01-11    7\n",
       "2020-01-12    0\n",
       "2020-01-13    0\n",
       "Freq: D, dtype: int32"
      ]
     },
     "execution_count": 85,
     "metadata": {},
     "output_type": "execute_result"
    }
   ],
   "source": [
    "#freq를 넘겨 timestamp가 확장되도록 할 수 있다.\n",
    "#시작을 01-04 부터하고 뒤에 01-11, 01-12, 01-13 이 더 생겼다.\n",
    "ts_shift.shift(3, freq ='D')"
   ]
  },
  {
   "cell_type": "code",
   "execution_count": 86,
   "metadata": {},
   "outputs": [
    {
     "data": {
      "text/plain": [
       "2020-03-31    3\n",
       "2020-03-31    6\n",
       "2020-03-31    6\n",
       "2020-03-31    0\n",
       "2020-03-31    9\n",
       "2020-03-31    8\n",
       "2020-03-31    4\n",
       "2020-03-31    7\n",
       "2020-03-31    0\n",
       "2020-03-31    0\n",
       "Freq: D, dtype: int32"
      ]
     },
     "execution_count": 86,
     "metadata": {},
     "output_type": "execute_result"
    }
   ],
   "source": [
    "ts_shift.shift(3, freq='M')"
   ]
  },
  {
   "cell_type": "markdown",
   "metadata": {},
   "source": [
    "## 오프셋만큼 날짜 shift하기\n",
    "날짜 오프셋은 datetime이나 Timestamp 객체 둘 다에 적용 가능"
   ]
  },
  {
   "cell_type": "code",
   "execution_count": 87,
   "metadata": {},
   "outputs": [],
   "source": [
    "from pandas.tseries.offsets import Day, MonthEnd"
   ]
  },
  {
   "cell_type": "code",
   "execution_count": 88,
   "metadata": {},
   "outputs": [
    {
     "data": {
      "text/plain": [
       "Timestamp('2011-11-20 00:00:00')"
      ]
     },
     "execution_count": 88,
     "metadata": {},
     "output_type": "execute_result"
    }
   ],
   "source": [
    "now = datetime(2011,11,17)\n",
    "now + 3*Day()"
   ]
  },
  {
   "cell_type": "code",
   "execution_count": 89,
   "metadata": {},
   "outputs": [
    {
     "data": {
      "text/plain": [
       "Timestamp('2011-11-30 00:00:00')"
      ]
     },
     "execution_count": 89,
     "metadata": {},
     "output_type": "execute_result"
    }
   ],
   "source": [
    "now + MonthEnd()"
   ]
  },
  {
   "cell_type": "code",
   "execution_count": 90,
   "metadata": {},
   "outputs": [
    {
     "data": {
      "text/plain": [
       "Timestamp('2011-12-31 00:00:00')"
      ]
     },
     "execution_count": 90,
     "metadata": {},
     "output_type": "execute_result"
    }
   ],
   "source": [
    "now + MonthEnd(2)"
   ]
  },
  {
   "cell_type": "code",
   "execution_count": 91,
   "metadata": {},
   "outputs": [
    {
     "data": {
      "text/plain": [
       "Timestamp('2011-10-31 00:00:00')"
      ]
     },
     "execution_count": 91,
     "metadata": {},
     "output_type": "execute_result"
    }
   ],
   "source": [
    "now + MonthEnd(-1)"
   ]
  },
  {
   "cell_type": "code",
   "execution_count": 92,
   "metadata": {},
   "outputs": [
    {
     "data": {
      "text/plain": [
       "Timestamp('2011-10-31 00:00:00')"
      ]
     },
     "execution_count": 92,
     "metadata": {},
     "output_type": "execute_result"
    }
   ],
   "source": [
    "MonthEnd().rollback(now) #해당 날짜의 전 달의 마지막 날"
   ]
  },
  {
   "cell_type": "code",
   "execution_count": 93,
   "metadata": {},
   "outputs": [
    {
     "data": {
      "text/plain": [
       "Timestamp('2011-11-30 00:00:00')"
      ]
     },
     "execution_count": 93,
     "metadata": {},
     "output_type": "execute_result"
    }
   ],
   "source": [
    "MonthEnd().rollforward(now) #해당 날짜의 달의 마지막 날"
   ]
  },
  {
   "cell_type": "markdown",
   "metadata": {},
   "source": [
    "groupby와 오프셋 같이 사용하기"
   ]
  },
  {
   "cell_type": "code",
   "execution_count": 94,
   "metadata": {},
   "outputs": [
    {
     "data": {
      "text/plain": [
       "2020-01-01     7\n",
       "2020-01-05    12\n",
       "2020-01-09    15\n",
       "2020-01-13    17\n",
       "2020-01-17     7\n",
       "2020-01-21    16\n",
       "2020-01-25    12\n",
       "2020-01-29    13\n",
       "2020-02-02    11\n",
       "2020-02-06     1\n",
       "2020-02-10    15\n",
       "2020-02-14    18\n",
       "2020-02-18     9\n",
       "2020-02-22    10\n",
       "2020-02-26     9\n",
       "2020-03-01     9\n",
       "2020-03-05     1\n",
       "2020-03-09    18\n",
       "2020-03-13     7\n",
       "2020-03-17    16\n",
       "Freq: 4D, dtype: int32"
      ]
     },
     "execution_count": 94,
     "metadata": {},
     "output_type": "execute_result"
    }
   ],
   "source": [
    "ts_off = pd.Series(np.random.randint(20, size=20), \n",
    "                  index = pd.date_range('1/1/2020', periods=20, freq = '4d'))\n",
    "ts_off"
   ]
  },
  {
   "cell_type": "markdown",
   "metadata": {},
   "source": [
    "# 10.4 시간대 다루기\n",
    "일광절약시간(DST)  \n",
    "UTC로부터 떨어진 offset으로 각 나라, 위치의 시간 파악\n",
    "- pytz : 전 세계의 시간대 정보를 담고 있는 서브파티 라이브러리"
   ]
  },
  {
   "cell_type": "code",
   "execution_count": 95,
   "metadata": {},
   "outputs": [],
   "source": [
    "import pytz"
   ]
  },
  {
   "cell_type": "code",
   "execution_count": 96,
   "metadata": {},
   "outputs": [
    {
     "data": {
      "text/plain": [
       "['US/Eastern', 'US/Hawaii', 'US/Mountain', 'US/Pacific', 'UTC']"
      ]
     },
     "execution_count": 96,
     "metadata": {},
     "output_type": "execute_result"
    }
   ],
   "source": [
    "pytz.common_timezones[-5:]"
   ]
  },
  {
   "cell_type": "code",
   "execution_count": 97,
   "metadata": {},
   "outputs": [
    {
     "data": {
      "text/plain": [
       "<DstTzInfo 'US/Hawaii' LMT-1 day, 13:29:00 STD>"
      ]
     },
     "execution_count": 97,
     "metadata": {},
     "output_type": "execute_result"
    }
   ],
   "source": [
    "pytz.timezone('US/Hawaii')"
   ]
  },
  {
   "cell_type": "markdown",
   "metadata": {},
   "source": [
    "# 10.4.1 지역화와 변환\n",
    "pandas에서 시계열은 시간대를 엄격히 다루지 않는다.  \n",
    "지역화 적용 X : 지역마다 시간을 재는 방식이 다른 것(eg: Summertime)을 세세히 감안하지 않는다. "
   ]
  },
  {
   "cell_type": "code",
   "execution_count": 98,
   "metadata": {},
   "outputs": [
    {
     "data": {
      "text/plain": [
       "2011-01-02   -0.274074\n",
       "2011-01-05    0.924186\n",
       "2011-01-07    0.167108\n",
       "2011-01-08   -1.720296\n",
       "2011-01-10   -1.117970\n",
       "2011-01-12   -0.946407\n",
       "dtype: float64"
      ]
     },
     "execution_count": 98,
     "metadata": {},
     "output_type": "execute_result"
    }
   ],
   "source": [
    "ts"
   ]
  },
  {
   "cell_type": "code",
   "execution_count": 100,
   "metadata": {},
   "outputs": [
    {
     "data": {
      "text/plain": [
       "DatetimeIndex(['2020-01-31 00:00:00+00:00', '2020-02-29 00:00:00+00:00',\n",
       "               '2020-03-31 00:00:00+00:00', '2020-04-30 00:00:00+00:00',\n",
       "               '2020-05-31 00:00:00+00:00', '2020-06-30 00:00:00+00:00',\n",
       "               '2020-07-31 00:00:00+00:00', '2020-08-31 00:00:00+00:00',\n",
       "               '2020-09-30 00:00:00+00:00', '2020-10-31 00:00:00+00:00',\n",
       "               '2020-11-30 00:00:00+00:00', '2020-12-31 00:00:00+00:00',\n",
       "               '2021-01-31 00:00:00+00:00', '2021-02-28 00:00:00+00:00',\n",
       "               '2021-03-31 00:00:00+00:00', '2021-04-30 00:00:00+00:00',\n",
       "               '2021-05-31 00:00:00+00:00', '2021-06-30 00:00:00+00:00',\n",
       "               '2021-07-31 00:00:00+00:00', '2021-08-31 00:00:00+00:00'],\n",
       "              dtype='datetime64[ns, UTC]', freq='M')"
      ]
     },
     "execution_count": 100,
     "metadata": {},
     "output_type": "execute_result"
    }
   ],
   "source": [
    "pd.date_range('1/1/2020', periods = 20, freq='M', tz='UTC')"
   ]
  },
  {
   "cell_type": "code",
   "execution_count": 102,
   "metadata": {},
   "outputs": [
    {
     "data": {
      "text/plain": [
       "2011-01-02 00:00:00+00:00   -0.274074\n",
       "2011-01-05 00:00:00+00:00    0.924186\n",
       "2011-01-07 00:00:00+00:00    0.167108\n",
       "2011-01-08 00:00:00+00:00   -1.720296\n",
       "2011-01-10 00:00:00+00:00   -1.117970\n",
       "2011-01-12 00:00:00+00:00   -0.946407\n",
       "dtype: float64"
      ]
     },
     "execution_count": 102,
     "metadata": {},
     "output_type": "execute_result"
    }
   ],
   "source": [
    "#UTC 옵션을 통해 표준 시간대로 맞춘다.\n",
    "ts_utc = ts.tz_localize('UTC')\n",
    "ts_utc"
   ]
  },
  {
   "cell_type": "code",
   "execution_count": 103,
   "metadata": {},
   "outputs": [
    {
     "data": {
      "text/plain": [
       "2011-01-01 19:00:00-05:00   -0.274074\n",
       "2011-01-04 19:00:00-05:00    0.924186\n",
       "2011-01-06 19:00:00-05:00    0.167108\n",
       "2011-01-07 19:00:00-05:00   -1.720296\n",
       "2011-01-09 19:00:00-05:00   -1.117970\n",
       "2011-01-11 19:00:00-05:00   -0.946407\n",
       "dtype: float64"
      ]
     },
     "execution_count": 103,
     "metadata": {},
     "output_type": "execute_result"
    }
   ],
   "source": [
    "#지역화가 된 후 tx_convert 를 사용해 다른 시간대로 변경 가능하다. \n",
    "ts_utc.tz_convert('US/Eastern')"
   ]
  },
  {
   "cell_type": "markdown",
   "metadata": {},
   "source": [
    "# 10.4.2 시간대 고려해 Timestamp 객체\n",
    "timestamp : 도장처럼 날짜나 시간을 딱 찍어 놓은 객체"
   ]
  },
  {
   "cell_type": "code",
   "execution_count": 104,
   "metadata": {},
   "outputs": [],
   "source": [
    "t_stamp = pd.Timestamp('2018-1-1 4:00')"
   ]
  },
  {
   "cell_type": "code",
   "execution_count": 111,
   "metadata": {},
   "outputs": [],
   "source": [
    "t_stamp_utc = t_stamp.tz_localize('UTC')"
   ]
  },
  {
   "cell_type": "code",
   "execution_count": 112,
   "metadata": {},
   "outputs": [
    {
     "data": {
      "text/plain": [
       "Timestamp('2018-01-01 04:00:00+0000', tz='UTC')"
      ]
     },
     "execution_count": 112,
     "metadata": {},
     "output_type": "execute_result"
    }
   ],
   "source": [
    "t_stamp_utc"
   ]
  },
  {
   "cell_type": "code",
   "execution_count": 113,
   "metadata": {},
   "outputs": [
    {
     "data": {
      "text/plain": [
       "Timestamp('2017-12-31 18:00:00-1000', tz='US/Hawaii')"
      ]
     },
     "execution_count": 113,
     "metadata": {},
     "output_type": "execute_result"
    }
   ],
   "source": [
    "t_stmp_utc.tz_convert('US/Hawaii')"
   ]
  },
  {
   "cell_type": "code",
   "execution_count": 114,
   "metadata": {},
   "outputs": [
    {
     "data": {
      "text/plain": [
       "Timestamp('2018-01-01 16:23:00+0300', tz='Europe/Moscow')"
      ]
     },
     "execution_count": 114,
     "metadata": {},
     "output_type": "execute_result"
    }
   ],
   "source": [
    "#생성할 때부터 해당 지역 시간으로 정해줄 수 있다.\n",
    "t_stamp_moscow = pd.Timestamp('2018/1/1 16:23', tz='Europe/Moscow')\n",
    "t_stamp_moscow"
   ]
  },
  {
   "cell_type": "code",
   "execution_count": 116,
   "metadata": {},
   "outputs": [
    {
     "data": {
      "text/plain": [
       "1514779200000000000"
      ]
     },
     "execution_count": 116,
     "metadata": {},
     "output_type": "execute_result"
    }
   ],
   "source": [
    "t_stamp_utc.value #UTC 타임스탬프 값은 UNIX epoch(1970/1/1)부터 현재까지의 나노초로 저장 "
   ]
  },
  {
   "cell_type": "markdown",
   "metadata": {},
   "source": [
    "# 10.4.3 다른 시간대끼리의 연산\n",
    "timestamp 객체: 내부적으로 UTC로 저장된다. 따라서 추가적인 변환 필요없음"
   ]
  },
  {
   "cell_type": "code",
   "execution_count": 117,
   "metadata": {},
   "outputs": [],
   "source": [
    "ts.index = pd.date_range('1/1/2018 09:30', periods=6, freq='B')\n",
    "#freq='B' : workdays 영업일(평일)"
   ]
  },
  {
   "cell_type": "code",
   "execution_count": 118,
   "metadata": {},
   "outputs": [
    {
     "data": {
      "text/plain": [
       "2018-01-01 09:30:00   -0.274074\n",
       "2018-01-02 09:30:00    0.924186\n",
       "2018-01-03 09:30:00    0.167108\n",
       "2018-01-04 09:30:00   -1.720296\n",
       "2018-01-05 09:30:00   -1.117970\n",
       "2018-01-08 09:30:00   -0.946407\n",
       "Freq: B, dtype: float64"
      ]
     },
     "execution_count": 118,
     "metadata": {},
     "output_type": "execute_result"
    }
   ],
   "source": [
    "ts"
   ]
  },
  {
   "cell_type": "markdown",
   "metadata": {},
   "source": [
    "# 10.5 기간과 기간 연산\n",
    "- pd.Period()"
   ]
  },
  {
   "cell_type": "code",
   "execution_count": 119,
   "metadata": {},
   "outputs": [
    {
     "data": {
      "text/plain": [
       "Period('2018', 'A-DEC')"
      ]
     },
     "execution_count": 119,
     "metadata": {},
     "output_type": "execute_result"
    }
   ],
   "source": [
    "p = pd.Period(2018, freq = 'A-DEC') #2018/1/1 ~ 2018/12/31\n",
    "p"
   ]
  },
  {
   "cell_type": "code",
   "execution_count": 120,
   "metadata": {},
   "outputs": [
    {
     "data": {
      "text/plain": [
       "Period('2023', 'A-DEC')"
      ]
     },
     "execution_count": 120,
     "metadata": {},
     "output_type": "execute_result"
    }
   ],
   "source": [
    "p+5"
   ]
  },
  {
   "cell_type": "code",
   "execution_count": 121,
   "metadata": {},
   "outputs": [
    {
     "data": {
      "text/plain": [
       "Period('2016', 'A-DEC')"
      ]
     },
     "execution_count": 121,
     "metadata": {},
     "output_type": "execute_result"
    }
   ],
   "source": [
    "p-2"
   ]
  },
  {
   "cell_type": "code",
   "execution_count": 122,
   "metadata": {},
   "outputs": [
    {
     "data": {
      "text/plain": [
       "<10 * YearEnds: month=12>"
      ]
     },
     "execution_count": 122,
     "metadata": {},
     "output_type": "execute_result"
    }
   ],
   "source": [
    "#두 기간의 빈도(freq)가 같다면 두 기간의 차는 둘 사이의 간격이 된다.\n",
    "pd.Period('3/4/2028', freq = 'A-DEC') - p"
   ]
  },
  {
   "cell_type": "code",
   "execution_count": 123,
   "metadata": {},
   "outputs": [
    {
     "data": {
      "text/plain": [
       "PeriodIndex(['2020-01', '2020-02', '2020-03', '2020-04', '2020-05', '2020-06'], dtype='period[M]', freq='M')"
      ]
     },
     "execution_count": 123,
     "metadata": {},
     "output_type": "execute_result"
    }
   ],
   "source": [
    "rng = pd.period_range('1/1/2020', '6/3/2020', freq='M')\n",
    "rng"
   ]
  },
  {
   "cell_type": "code",
   "execution_count": 124,
   "metadata": {},
   "outputs": [
    {
     "data": {
      "text/plain": [
       "2020-01    0.074531\n",
       "2020-02    0.556535\n",
       "2020-03    1.972580\n",
       "2020-04   -0.241066\n",
       "2020-05    0.363376\n",
       "2020-06    1.074484\n",
       "Freq: M, dtype: float64"
      ]
     },
     "execution_count": 124,
     "metadata": {},
     "output_type": "execute_result"
    }
   ],
   "source": [
    "pd.Series(np.random.randn(6), index=rng)"
   ]
  },
  {
   "cell_type": "code",
   "execution_count": 125,
   "metadata": {},
   "outputs": [],
   "source": [
    "values = ['200103', '200202', '200301']"
   ]
  },
  {
   "cell_type": "code",
   "execution_count": 126,
   "metadata": {},
   "outputs": [
    {
     "data": {
      "text/plain": [
       "PeriodIndex(['2003Q1', '2002Q1', '2001Q1'], dtype='period[Q-DEC]', freq='Q-DEC')"
      ]
     },
     "execution_count": 126,
     "metadata": {},
     "output_type": "execute_result"
    }
   ],
   "source": [
    "index_v = pd.PeriodIndex(values, freq = 'Q-DEC')\n",
    "index_v"
   ]
  },
  {
   "cell_type": "markdown",
   "metadata": {},
   "source": [
    "# 10.5.1 Period의 빈도 변환\n",
    "asfreq() : 다른 빈도로 변환"
   ]
  },
  {
   "cell_type": "code",
   "execution_count": 127,
   "metadata": {},
   "outputs": [
    {
     "data": {
      "text/plain": [
       "Period('2018', 'A-DEC')"
      ]
     },
     "execution_count": 127,
     "metadata": {},
     "output_type": "execute_result"
    }
   ],
   "source": [
    "p"
   ]
  },
  {
   "cell_type": "code",
   "execution_count": 128,
   "metadata": {},
   "outputs": [
    {
     "data": {
      "text/plain": [
       "Period('2018-01', 'M')"
      ]
     },
     "execution_count": 128,
     "metadata": {},
     "output_type": "execute_result"
    }
   ],
   "source": [
    "p.asfreq('M', how='start')"
   ]
  },
  {
   "cell_type": "code",
   "execution_count": 129,
   "metadata": {},
   "outputs": [
    {
     "data": {
      "text/plain": [
       "Period('2018-12', 'M')"
      ]
     },
     "execution_count": 129,
     "metadata": {},
     "output_type": "execute_result"
    }
   ],
   "source": [
    "p.asfreq('M', how='end')"
   ]
  },
  {
   "cell_type": "markdown",
   "metadata": {},
   "source": [
    "# 10.5.2 분기 빈도\n",
    "분기 데이터 : 재정, 금융 및 여러 분야에서 사용"
   ]
  },
  {
   "cell_type": "code",
   "execution_count": 131,
   "metadata": {},
   "outputs": [
    {
     "data": {
      "text/plain": [
       "Period('2023Q1', 'Q-JAN')"
      ]
     },
     "execution_count": 131,
     "metadata": {},
     "output_type": "execute_result"
    }
   ],
   "source": [
    "pq = pd.Period('2022-04', freq = 'Q-JAN')\n",
    "pq"
   ]
  },
  {
   "cell_type": "code",
   "execution_count": 132,
   "metadata": {},
   "outputs": [
    {
     "data": {
      "text/plain": [
       "Period('2022-02-01', 'D')"
      ]
     },
     "execution_count": 132,
     "metadata": {},
     "output_type": "execute_result"
    }
   ],
   "source": [
    "pq.asfreq('D', 'start')"
   ]
  },
  {
   "cell_type": "code",
   "execution_count": 133,
   "metadata": {},
   "outputs": [
    {
     "data": {
      "text/plain": [
       "Period('2018Q2', 'Q-AUG')"
      ]
     },
     "execution_count": 133,
     "metadata": {},
     "output_type": "execute_result"
    }
   ],
   "source": [
    "pd.Period('2018/1/30', freq='Q-AUG')"
   ]
  },
  {
   "cell_type": "markdown",
   "metadata": {},
   "source": [
    "# 10.6 리샘플링과 빈도 변환\n",
    "리샘플링 : 빈도(freq)를 변환하는 과정\n",
    "- pd.resample\n",
    "    + 다운 샘플링 : 상위 빈도 -> 하위 빈도/ 많은 빈도 -> 적은 빈도 ex)일->월\n",
    "    + 업 샘플링 : 하위 빈도 -> 상위 빈도\n",
    "    + closed = 'right'/ 'left' : 전체에서 연산의 시작점을 앞으로 할지 뒤로 할지\n",
    "    + label = 'right'/ 'left' : 연산 후 각 그룹에서 사용할 datetime 인덱스 값을 어떤 것으로 할지\n",
    "    + offset : 반환 결과 값의 datetime 인덱스를 더 조정하고 싶을 때."
   ]
  },
  {
   "cell_type": "code",
   "execution_count": 143,
   "metadata": {
    "scrolled": true
   },
   "outputs": [
    {
     "data": {
      "text/plain": [
       "PeriodIndex(['2020-01', '2020-02', '2020-03', '2020-04', '2020-05', '2020-06'], dtype='period[M]', freq='M')"
      ]
     },
     "execution_count": 143,
     "metadata": {},
     "output_type": "execute_result"
    }
   ],
   "source": [
    "rng"
   ]
  },
  {
   "cell_type": "code",
   "execution_count": 144,
   "metadata": {},
   "outputs": [],
   "source": [
    "rng_rs = pd.date_range('1/1/2018', periods =100, freq='D')"
   ]
  },
  {
   "cell_type": "code",
   "execution_count": 145,
   "metadata": {},
   "outputs": [],
   "source": [
    "ts_rs = pd.Series(np.random.randint(100, size = len(rng_rs)), index = rng_rs)"
   ]
  },
  {
   "cell_type": "code",
   "execution_count": 146,
   "metadata": {},
   "outputs": [
    {
     "data": {
      "text/plain": [
       "2018-01-01    30\n",
       "2018-01-02    62\n",
       "2018-01-03    11\n",
       "2018-01-04    67\n",
       "2018-01-05    65\n",
       "Freq: D, dtype: int32"
      ]
     },
     "execution_count": 146,
     "metadata": {},
     "output_type": "execute_result"
    }
   ],
   "source": [
    "ts_rs.head()"
   ]
  },
  {
   "cell_type": "code",
   "execution_count": 147,
   "metadata": {
    "scrolled": true
   },
   "outputs": [
    {
     "data": {
      "text/plain": [
       "2018-01-31    41.870968\n",
       "2018-02-28    50.464286\n",
       "2018-03-31    50.451613\n",
       "2018-04-30    46.400000\n",
       "Freq: M, dtype: float64"
      ]
     },
     "execution_count": 147,
     "metadata": {},
     "output_type": "execute_result"
    }
   ],
   "source": [
    "ts_rs.resample('M', how='mean')"
   ]
  },
  {
   "cell_type": "code",
   "execution_count": 148,
   "metadata": {},
   "outputs": [
    {
     "data": {
      "text/plain": [
       "41.87096774193548"
      ]
     },
     "execution_count": 148,
     "metadata": {},
     "output_type": "execute_result"
    }
   ],
   "source": [
    "ts_rs['2018-01'].mean()"
   ]
  },
  {
   "cell_type": "code",
   "execution_count": 150,
   "metadata": {},
   "outputs": [
    {
     "data": {
      "text/plain": [
       "2018-01    41.870968\n",
       "2018-02    50.464286\n",
       "2018-03    50.451613\n",
       "2018-04    46.400000\n",
       "Freq: M, dtype: float64"
      ]
     },
     "execution_count": 150,
     "metadata": {},
     "output_type": "execute_result"
    }
   ],
   "source": [
    "ts_rs.resample('M', how='mean', kind = 'period')\n",
    "#kind 옵션을 사용하여 datetime 인덱스를 어떤 식으로 설정할 것인지"
   ]
  },
  {
   "cell_type": "markdown",
   "metadata": {},
   "source": [
    "# 10.6.1 다운샘플링\n",
    "시계열 조각의 크기를 원하는 빈도로 정의  \n",
    "각 간격은 한쪽이 열려있게 된다. 양 끝 중 한쪽만 포함한다는 말."
   ]
  },
  {
   "cell_type": "code",
   "execution_count": 151,
   "metadata": {},
   "outputs": [],
   "source": [
    "rng_ds = pd.date_range('1/1/2018', periods=12, freq = 'T')"
   ]
  },
  {
   "cell_type": "code",
   "execution_count": 153,
   "metadata": {},
   "outputs": [],
   "source": [
    "ts_ds = pd.Series(np.arange(12), index=rng_ds)"
   ]
  },
  {
   "cell_type": "code",
   "execution_count": 154,
   "metadata": {},
   "outputs": [
    {
     "data": {
      "text/plain": [
       "2018-01-01 00:00:00     0\n",
       "2018-01-01 00:01:00     1\n",
       "2018-01-01 00:02:00     2\n",
       "2018-01-01 00:03:00     3\n",
       "2018-01-01 00:04:00     4\n",
       "2018-01-01 00:05:00     5\n",
       "2018-01-01 00:06:00     6\n",
       "2018-01-01 00:07:00     7\n",
       "2018-01-01 00:08:00     8\n",
       "2018-01-01 00:09:00     9\n",
       "2018-01-01 00:10:00    10\n",
       "2018-01-01 00:11:00    11\n",
       "Freq: T, dtype: int32"
      ]
     },
     "execution_count": 154,
     "metadata": {},
     "output_type": "execute_result"
    }
   ],
   "source": [
    "ts_ds"
   ]
  },
  {
   "cell_type": "code",
   "execution_count": 156,
   "metadata": {
    "scrolled": true
   },
   "outputs": [
    {
     "data": {
      "text/plain": [
       "2018-01-01 00:00:00    10\n",
       "2018-01-01 00:05:00    35\n",
       "2018-01-01 00:10:00    21\n",
       "Freq: 5T, dtype: int32"
      ]
     },
     "execution_count": 156,
     "metadata": {},
     "output_type": "execute_result"
    }
   ],
   "source": [
    "ts_ds.resample('5min', how = 'sum')"
   ]
  },
  {
   "cell_type": "code",
   "execution_count": 157,
   "metadata": {
    "scrolled": true
   },
   "outputs": [
    {
     "data": {
      "text/plain": [
       "2017-12-31 23:55:00     0\n",
       "2018-01-01 00:00:00    15\n",
       "2018-01-01 00:05:00    40\n",
       "2018-01-01 00:10:00    11\n",
       "Freq: 5T, dtype: int32"
      ]
     },
     "execution_count": 157,
     "metadata": {},
     "output_type": "execute_result"
    }
   ],
   "source": [
    "ts_ds.resample('5min', how='sum', closed='right')"
   ]
  },
  {
   "cell_type": "code",
   "execution_count": 159,
   "metadata": {},
   "outputs": [
    {
     "data": {
      "text/plain": [
       "2018-01-01 00:05:00     2.0\n",
       "2018-01-01 00:10:00     7.0\n",
       "2018-01-01 00:15:00    10.5\n",
       "Freq: 5T, dtype: float64"
      ]
     },
     "execution_count": 159,
     "metadata": {},
     "output_type": "execute_result"
    }
   ],
   "source": [
    "ts_ds.resample('5min', how='mean', closed='left', label='right')"
   ]
  },
  {
   "cell_type": "code",
   "execution_count": 160,
   "metadata": {
    "scrolled": true
   },
   "outputs": [
    {
     "data": {
      "text/plain": [
       "2018-01-01 00:04:30     2.0\n",
       "2018-01-01 00:09:30     7.0\n",
       "2018-01-01 00:14:30    10.5\n",
       "Freq: 5T, dtype: float64"
      ]
     },
     "execution_count": 160,
     "metadata": {},
     "output_type": "execute_result"
    }
   ],
   "source": [
    "ts_ds.resample('5min', how = 'mean', closed = 'left', label = 'right', loffset = '-30s')"
   ]
  },
  {
   "cell_type": "markdown",
   "metadata": {},
   "source": [
    "# 10.6.2 업샘플링과 보간\n",
    "하위 빈도 -> 사위 빈도 eg)월->일\n",
    "\n",
    "관측되지 않은 데이터가 있기 때문에 집계가 필요하지 않다. \n",
    "\n",
    "대신 없는 값을 채워야 하는 '보간'이 필요하다.\n",
    "\n",
    "보간 수행 옵션\n",
    "- fill_method ='ffill', 'bfill'\n",
    "- limit = 정수 : 보간을 수행할 범위 지정"
   ]
  },
  {
   "cell_type": "code",
   "execution_count": 161,
   "metadata": {
    "scrolled": true
   },
   "outputs": [
    {
     "data": {
      "text/html": [
       "<div>\n",
       "<style scoped>\n",
       "    .dataframe tbody tr th:only-of-type {\n",
       "        vertical-align: middle;\n",
       "    }\n",
       "\n",
       "    .dataframe tbody tr th {\n",
       "        vertical-align: top;\n",
       "    }\n",
       "\n",
       "    .dataframe thead th {\n",
       "        text-align: right;\n",
       "    }\n",
       "</style>\n",
       "<table border=\"1\" class=\"dataframe\">\n",
       "  <thead>\n",
       "    <tr style=\"text-align: right;\">\n",
       "      <th></th>\n",
       "      <th>Colorado</th>\n",
       "      <th>Texas</th>\n",
       "      <th>New York</th>\n",
       "      <th>Ohio</th>\n",
       "    </tr>\n",
       "  </thead>\n",
       "  <tbody>\n",
       "    <tr>\n",
       "      <td>2018-01-03</td>\n",
       "      <td>0.460850</td>\n",
       "      <td>-0.052698</td>\n",
       "      <td>-2.899218</td>\n",
       "      <td>2.234424</td>\n",
       "    </tr>\n",
       "    <tr>\n",
       "      <td>2018-01-10</td>\n",
       "      <td>0.666703</td>\n",
       "      <td>1.338284</td>\n",
       "      <td>0.185105</td>\n",
       "      <td>2.611075</td>\n",
       "    </tr>\n",
       "  </tbody>\n",
       "</table>\n",
       "</div>"
      ],
      "text/plain": [
       "            Colorado     Texas  New York      Ohio\n",
       "2018-01-03  0.460850 -0.052698 -2.899218  2.234424\n",
       "2018-01-10  0.666703  1.338284  0.185105  2.611075"
      ]
     },
     "execution_count": 161,
     "metadata": {},
     "output_type": "execute_result"
    }
   ],
   "source": [
    "df_us = pd.DataFrame(np.random.randn(2,4),\n",
    "                    columns = ['Colorado', 'Texas', 'New York', 'Ohio'],\n",
    "                    index = pd.date_range('1/1/2018', periods=2, freq ='W-WED'))\n",
    "df_us"
   ]
  },
  {
   "cell_type": "code",
   "execution_count": 162,
   "metadata": {},
   "outputs": [
    {
     "data": {
      "text/plain": [
       "<pandas.core.resample.DatetimeIndexResampler object at 0x13041A50>"
      ]
     },
     "execution_count": 162,
     "metadata": {},
     "output_type": "execute_result"
    }
   ],
   "source": [
    "df_daily = df_us.resample('D')\n",
    "df_daily"
   ]
  },
  {
   "cell_type": "code",
   "execution_count": 163,
   "metadata": {
    "scrolled": true
   },
   "outputs": [
    {
     "data": {
      "text/html": [
       "<div>\n",
       "<style scoped>\n",
       "    .dataframe tbody tr th:only-of-type {\n",
       "        vertical-align: middle;\n",
       "    }\n",
       "\n",
       "    .dataframe tbody tr th {\n",
       "        vertical-align: top;\n",
       "    }\n",
       "\n",
       "    .dataframe thead th {\n",
       "        text-align: right;\n",
       "    }\n",
       "</style>\n",
       "<table border=\"1\" class=\"dataframe\">\n",
       "  <thead>\n",
       "    <tr style=\"text-align: right;\">\n",
       "      <th></th>\n",
       "      <th>Colorado</th>\n",
       "      <th>Texas</th>\n",
       "      <th>New York</th>\n",
       "      <th>Ohio</th>\n",
       "    </tr>\n",
       "  </thead>\n",
       "  <tbody>\n",
       "    <tr>\n",
       "      <td>2018-01-03</td>\n",
       "      <td>0.460850</td>\n",
       "      <td>-0.052698</td>\n",
       "      <td>-2.899218</td>\n",
       "      <td>2.234424</td>\n",
       "    </tr>\n",
       "    <tr>\n",
       "      <td>2018-01-04</td>\n",
       "      <td>0.460850</td>\n",
       "      <td>-0.052698</td>\n",
       "      <td>-2.899218</td>\n",
       "      <td>2.234424</td>\n",
       "    </tr>\n",
       "    <tr>\n",
       "      <td>2018-01-05</td>\n",
       "      <td>0.460850</td>\n",
       "      <td>-0.052698</td>\n",
       "      <td>-2.899218</td>\n",
       "      <td>2.234424</td>\n",
       "    </tr>\n",
       "    <tr>\n",
       "      <td>2018-01-06</td>\n",
       "      <td>0.460850</td>\n",
       "      <td>-0.052698</td>\n",
       "      <td>-2.899218</td>\n",
       "      <td>2.234424</td>\n",
       "    </tr>\n",
       "    <tr>\n",
       "      <td>2018-01-07</td>\n",
       "      <td>0.460850</td>\n",
       "      <td>-0.052698</td>\n",
       "      <td>-2.899218</td>\n",
       "      <td>2.234424</td>\n",
       "    </tr>\n",
       "    <tr>\n",
       "      <td>2018-01-08</td>\n",
       "      <td>0.460850</td>\n",
       "      <td>-0.052698</td>\n",
       "      <td>-2.899218</td>\n",
       "      <td>2.234424</td>\n",
       "    </tr>\n",
       "    <tr>\n",
       "      <td>2018-01-09</td>\n",
       "      <td>0.460850</td>\n",
       "      <td>-0.052698</td>\n",
       "      <td>-2.899218</td>\n",
       "      <td>2.234424</td>\n",
       "    </tr>\n",
       "    <tr>\n",
       "      <td>2018-01-10</td>\n",
       "      <td>0.666703</td>\n",
       "      <td>1.338284</td>\n",
       "      <td>0.185105</td>\n",
       "      <td>2.611075</td>\n",
       "    </tr>\n",
       "  </tbody>\n",
       "</table>\n",
       "</div>"
      ],
      "text/plain": [
       "            Colorado     Texas  New York      Ohio\n",
       "2018-01-03  0.460850 -0.052698 -2.899218  2.234424\n",
       "2018-01-04  0.460850 -0.052698 -2.899218  2.234424\n",
       "2018-01-05  0.460850 -0.052698 -2.899218  2.234424\n",
       "2018-01-06  0.460850 -0.052698 -2.899218  2.234424\n",
       "2018-01-07  0.460850 -0.052698 -2.899218  2.234424\n",
       "2018-01-08  0.460850 -0.052698 -2.899218  2.234424\n",
       "2018-01-09  0.460850 -0.052698 -2.899218  2.234424\n",
       "2018-01-10  0.666703  1.338284  0.185105  2.611075"
      ]
     },
     "execution_count": 163,
     "metadata": {},
     "output_type": "execute_result"
    }
   ],
   "source": [
    "df_us.resample('D', fill_method='ffill')"
   ]
  },
  {
   "cell_type": "code",
   "execution_count": 164,
   "metadata": {
    "scrolled": true
   },
   "outputs": [
    {
     "data": {
      "text/html": [
       "<div>\n",
       "<style scoped>\n",
       "    .dataframe tbody tr th:only-of-type {\n",
       "        vertical-align: middle;\n",
       "    }\n",
       "\n",
       "    .dataframe tbody tr th {\n",
       "        vertical-align: top;\n",
       "    }\n",
       "\n",
       "    .dataframe thead th {\n",
       "        text-align: right;\n",
       "    }\n",
       "</style>\n",
       "<table border=\"1\" class=\"dataframe\">\n",
       "  <thead>\n",
       "    <tr style=\"text-align: right;\">\n",
       "      <th></th>\n",
       "      <th>Colorado</th>\n",
       "      <th>Texas</th>\n",
       "      <th>New York</th>\n",
       "      <th>Ohio</th>\n",
       "    </tr>\n",
       "  </thead>\n",
       "  <tbody>\n",
       "    <tr>\n",
       "      <td>2018-01-03</td>\n",
       "      <td>0.460850</td>\n",
       "      <td>-0.052698</td>\n",
       "      <td>-2.899218</td>\n",
       "      <td>2.234424</td>\n",
       "    </tr>\n",
       "    <tr>\n",
       "      <td>2018-01-04</td>\n",
       "      <td>NaN</td>\n",
       "      <td>NaN</td>\n",
       "      <td>NaN</td>\n",
       "      <td>NaN</td>\n",
       "    </tr>\n",
       "    <tr>\n",
       "      <td>2018-01-05</td>\n",
       "      <td>NaN</td>\n",
       "      <td>NaN</td>\n",
       "      <td>NaN</td>\n",
       "      <td>NaN</td>\n",
       "    </tr>\n",
       "    <tr>\n",
       "      <td>2018-01-06</td>\n",
       "      <td>NaN</td>\n",
       "      <td>NaN</td>\n",
       "      <td>NaN</td>\n",
       "      <td>NaN</td>\n",
       "    </tr>\n",
       "    <tr>\n",
       "      <td>2018-01-07</td>\n",
       "      <td>NaN</td>\n",
       "      <td>NaN</td>\n",
       "      <td>NaN</td>\n",
       "      <td>NaN</td>\n",
       "    </tr>\n",
       "    <tr>\n",
       "      <td>2018-01-08</td>\n",
       "      <td>0.666703</td>\n",
       "      <td>1.338284</td>\n",
       "      <td>0.185105</td>\n",
       "      <td>2.611075</td>\n",
       "    </tr>\n",
       "    <tr>\n",
       "      <td>2018-01-09</td>\n",
       "      <td>0.666703</td>\n",
       "      <td>1.338284</td>\n",
       "      <td>0.185105</td>\n",
       "      <td>2.611075</td>\n",
       "    </tr>\n",
       "    <tr>\n",
       "      <td>2018-01-10</td>\n",
       "      <td>0.666703</td>\n",
       "      <td>1.338284</td>\n",
       "      <td>0.185105</td>\n",
       "      <td>2.611075</td>\n",
       "    </tr>\n",
       "  </tbody>\n",
       "</table>\n",
       "</div>"
      ],
      "text/plain": [
       "            Colorado     Texas  New York      Ohio\n",
       "2018-01-03  0.460850 -0.052698 -2.899218  2.234424\n",
       "2018-01-04       NaN       NaN       NaN       NaN\n",
       "2018-01-05       NaN       NaN       NaN       NaN\n",
       "2018-01-06       NaN       NaN       NaN       NaN\n",
       "2018-01-07       NaN       NaN       NaN       NaN\n",
       "2018-01-08  0.666703  1.338284  0.185105  2.611075\n",
       "2018-01-09  0.666703  1.338284  0.185105  2.611075\n",
       "2018-01-10  0.666703  1.338284  0.185105  2.611075"
      ]
     },
     "execution_count": 164,
     "metadata": {},
     "output_type": "execute_result"
    }
   ],
   "source": [
    "df_us.resample('D', fill_method ='bfill', limit=2)"
   ]
  },
  {
   "cell_type": "code",
   "execution_count": 165,
   "metadata": {
    "scrolled": true
   },
   "outputs": [
    {
     "data": {
      "text/html": [
       "<div>\n",
       "<style scoped>\n",
       "    .dataframe tbody tr th:only-of-type {\n",
       "        vertical-align: middle;\n",
       "    }\n",
       "\n",
       "    .dataframe tbody tr th {\n",
       "        vertical-align: top;\n",
       "    }\n",
       "\n",
       "    .dataframe thead th {\n",
       "        text-align: right;\n",
       "    }\n",
       "</style>\n",
       "<table border=\"1\" class=\"dataframe\">\n",
       "  <thead>\n",
       "    <tr style=\"text-align: right;\">\n",
       "      <th></th>\n",
       "      <th>Colorado</th>\n",
       "      <th>Texas</th>\n",
       "      <th>New York</th>\n",
       "      <th>Ohio</th>\n",
       "    </tr>\n",
       "  </thead>\n",
       "  <tbody>\n",
       "    <tr>\n",
       "      <td>2018-01-04</td>\n",
       "      <td>0.460850</td>\n",
       "      <td>-0.052698</td>\n",
       "      <td>-2.899218</td>\n",
       "      <td>2.234424</td>\n",
       "    </tr>\n",
       "    <tr>\n",
       "      <td>2018-01-11</td>\n",
       "      <td>0.666703</td>\n",
       "      <td>1.338284</td>\n",
       "      <td>0.185105</td>\n",
       "      <td>2.611075</td>\n",
       "    </tr>\n",
       "  </tbody>\n",
       "</table>\n",
       "</div>"
      ],
      "text/plain": [
       "            Colorado     Texas  New York      Ohio\n",
       "2018-01-04  0.460850 -0.052698 -2.899218  2.234424\n",
       "2018-01-11  0.666703  1.338284  0.185105  2.611075"
      ]
     },
     "execution_count": 165,
     "metadata": {},
     "output_type": "execute_result"
    }
   ],
   "source": [
    "df_us.resample('W-THU', fill_method = 'ffill')"
   ]
  },
  {
   "cell_type": "markdown",
   "metadata": {},
   "source": [
    "# 10.6.3 기간 샘플링\n",
    "- resample('freq 옵션', how= )"
   ]
  },
  {
   "cell_type": "code",
   "execution_count": 171,
   "metadata": {},
   "outputs": [
    {
     "data": {
      "text/plain": [
       "2018-01-31     7\n",
       "2018-02-28    15\n",
       "2018-03-31    13\n",
       "2018-04-30    17\n",
       "2018-05-31     3\n",
       "              ..\n",
       "2025-12-31     0\n",
       "2026-01-31     4\n",
       "2026-02-28    14\n",
       "2026-03-31     5\n",
       "2026-04-30    13\n",
       "Freq: M, Length: 100, dtype: int32"
      ]
     },
     "execution_count": 171,
     "metadata": {},
     "output_type": "execute_result"
    }
   ],
   "source": [
    "sr = pd.Series(np.random.randint(20, size=100),\n",
    "              index = pd.date_range('1/1/2018', periods=100, freq='M'))\n",
    "sr"
   ]
  },
  {
   "cell_type": "code",
   "execution_count": 173,
   "metadata": {},
   "outputs": [
    {
     "data": {
      "text/plain": [
       "2018-12-31    172\n",
       "2019-12-31    107\n",
       "2020-12-31    135\n",
       "2021-12-31    139\n",
       "2022-12-31     97\n",
       "2023-12-31    124\n",
       "2024-12-31    131\n",
       "2025-12-31    102\n",
       "2026-12-31     36\n",
       "Freq: A-DEC, dtype: int32"
      ]
     },
     "execution_count": 173,
     "metadata": {},
     "output_type": "execute_result"
    }
   ],
   "source": [
    "annual_frame = sr.resample('A-DEC', how='sum')\n",
    "annual_frame"
   ]
  },
  {
   "cell_type": "code",
   "execution_count": 174,
   "metadata": {},
   "outputs": [
    {
     "data": {
      "text/plain": [
       "2018-12-31    172\n",
       "2019-03-31    172\n",
       "2019-06-30    172\n",
       "2019-09-30    172\n",
       "2019-12-31    107\n",
       "2020-03-31    107\n",
       "2020-06-30    107\n",
       "2020-09-30    107\n",
       "2020-12-31    135\n",
       "2021-03-31    135\n",
       "2021-06-30    135\n",
       "2021-09-30    135\n",
       "2021-12-31    139\n",
       "2022-03-31    139\n",
       "2022-06-30    139\n",
       "2022-09-30    139\n",
       "2022-12-31     97\n",
       "2023-03-31     97\n",
       "2023-06-30     97\n",
       "2023-09-30     97\n",
       "2023-12-31    124\n",
       "2024-03-31    124\n",
       "2024-06-30    124\n",
       "2024-09-30    124\n",
       "2024-12-31    131\n",
       "2025-03-31    131\n",
       "2025-06-30    131\n",
       "2025-09-30    131\n",
       "2025-12-31    102\n",
       "2026-03-31    102\n",
       "2026-06-30    102\n",
       "2026-09-30    102\n",
       "2026-12-31     36\n",
       "Freq: Q-DEC, dtype: int32"
      ]
     },
     "execution_count": 174,
     "metadata": {},
     "output_type": "execute_result"
    }
   ],
   "source": [
    "annual_frame.resample('Q-DEC', fill_method='ffill')"
   ]
  },
  {
   "cell_type": "code",
   "execution_count": 175,
   "metadata": {},
   "outputs": [
    {
     "data": {
      "text/plain": [
       "2018-12-31    172\n",
       "2019-03-31    172\n",
       "2019-06-30    172\n",
       "2019-09-30    172\n",
       "2019-12-31    107\n",
       "2020-03-31    107\n",
       "2020-06-30    107\n",
       "2020-09-30    107\n",
       "2020-12-31    135\n",
       "2021-03-31    135\n",
       "2021-06-30    135\n",
       "2021-09-30    135\n",
       "2021-12-31    139\n",
       "2022-03-31    139\n",
       "2022-06-30    139\n",
       "2022-09-30    139\n",
       "2022-12-31     97\n",
       "2023-03-31     97\n",
       "2023-06-30     97\n",
       "2023-09-30     97\n",
       "2023-12-31    124\n",
       "2024-03-31    124\n",
       "2024-06-30    124\n",
       "2024-09-30    124\n",
       "2024-12-31    131\n",
       "2025-03-31    131\n",
       "2025-06-30    131\n",
       "2025-09-30    131\n",
       "2025-12-31    102\n",
       "2026-03-31    102\n",
       "2026-06-30    102\n",
       "2026-09-30    102\n",
       "2026-12-31     36\n",
       "Freq: Q-DEC, dtype: int32"
      ]
     },
     "execution_count": 175,
     "metadata": {},
     "output_type": "execute_result"
    }
   ],
   "source": [
    "annual_frame.resample('Q-DEC', fill_method = 'ffill', convention='end')"
   ]
  },
  {
   "cell_type": "markdown",
   "metadata": {},
   "source": [
    "# 10.7 시계열 그래프\n",
    "pandas의 시계열 그래프: matplotlib보다 더 개선된 데이터 포맷을 지원한다."
   ]
  },
  {
   "cell_type": "code",
   "execution_count": null,
   "metadata": {},
   "outputs": [],
   "source": []
  }
 ],
 "metadata": {
  "kernelspec": {
   "display_name": "Python 3",
   "language": "python",
   "name": "python3"
  },
  "language_info": {
   "codemirror_mode": {
    "name": "ipython",
    "version": 3
   },
   "file_extension": ".py",
   "mimetype": "text/x-python",
   "name": "python",
   "nbconvert_exporter": "python",
   "pygments_lexer": "ipython3",
   "version": "3.7.4"
  }
 },
 "nbformat": 4,
 "nbformat_minor": 2
}
